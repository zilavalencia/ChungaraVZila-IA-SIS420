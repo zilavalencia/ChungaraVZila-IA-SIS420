{
  "cells": [
    {
      "cell_type": "markdown",
      "metadata": {
        "id": "view-in-github",
        "colab_type": "text"
      },
      "source": [
        "<a href=\"https://colab.research.google.com/github/zilavalencia/ChungaraVZila-IA-SIS420/blob/main/Practicas/practica01.ipynb\" target=\"_parent\"><img src=\"https://colab.research.google.com/assets/colab-badge.svg\" alt=\"Open In Colab\"/></a>"
      ]
    },
    {
      "cell_type": "markdown",
      "metadata": {
        "id": "9L0KhPHmJVNa"
      },
      "source": [
        "# PRACTICA #1\n",
        " NOMBRE: Zila chungara Valencia\n",
        "\n",
        " CARRERA: Ingenieria de Sistemas\n",
        "\n",
        "\n",
        "# Ejercicio de programación -  Regresión Logistica\n",
        "En este ejercicio se implementa regresión logistica.\n",
        "\n",
        "Implementación de regresion logistica al dataset \"WineQuality\" para hacer la predicción de la calidad del vino.\n",
        "Preprocesamiento del dataset con Pandas."
      ]
    },
    {
      "cell_type": "code",
      "source": [
        "from google.colab import drive\n",
        "drive.mount('/content/drive')"
      ],
      "metadata": {
        "colab": {
          "base_uri": "https://localhost:8080/"
        },
        "id": "z5PQZyiqJhUu",
        "outputId": "01aee64c-134e-40fe-9d1d-5a820087855e"
      },
      "execution_count": null,
      "outputs": [
        {
          "output_type": "stream",
          "name": "stdout",
          "text": [
            "Mounted at /content/drive\n"
          ]
        }
      ]
    },
    {
      "cell_type": "code",
      "execution_count": null,
      "metadata": {
        "id": "Eg6cIE74JVNd"
      },
      "outputs": [],
      "source": [
        "# se utiliza para el manejo de rutas y directorios.\n",
        "import os\n",
        "\n",
        "# Calculo cientifico y vectorial para python\n",
        "import numpy as np\n",
        "\n",
        "# Librerias para graficar\n",
        "from matplotlib import pyplot\n",
        "\n",
        "# Modulo de optimización de scipy\n",
        "from scipy import optimize\n",
        "\n",
        "# le dice a matplotlib que incruste gráficos en el cuaderno\n",
        "%matplotlib inline\n",
        "\n",
        "#Libreria pandas y scikitlearn para el preprocesamiento de datasets\n",
        "import pandas as pd\n",
        "import sklearn as skl"
      ]
    },
    {
      "cell_type": "markdown",
      "source": [
        "#1. Contenido del dataset\n",
        "El contenido del dataset se carga en \"dataframe\", el cual Panda utilizará como unidad de información.\\\n",
        "A continuación se muestra y describe con un resumen el contenido del dataframe.\\\n",
        "El dataset contiene un total de 32485 casos de vino con los que se puede predecir la calidad analizando los los compuestos del vino. Los datos contienen 12 características."
      ],
      "metadata": {
        "id": "Ur4XmPQjLe2b"
      }
    },
    {
      "cell_type": "code",
      "source": [
        "dataframe = pd.read_csv('/content/drive/MyDrive/WineQuality.csv')\n",
        "print(dataframe)\n",
        "print(dataframe.describe())"
      ],
      "metadata": {
        "colab": {
          "base_uri": "https://localhost:8080/"
        },
        "id": "KDsQP7oQLkfn",
        "outputId": "8a614763-9ebd-4a25-e1eb-baea6d828d8f"
      },
      "execution_count": null,
      "outputs": [
        {
          "output_type": "stream",
          "name": "stdout",
          "text": [
            "       fixed acidity  volatile acidity  citric acid  residual sugar  \\\n",
            "0                7.4             0.170         0.29             1.4   \n",
            "1                5.3             0.310         0.38            10.5   \n",
            "2                4.7             0.145         0.29             1.0   \n",
            "3                6.9             0.260         0.29             4.2   \n",
            "4                6.4             0.450         0.07             1.1   \n",
            "...              ...               ...          ...             ...   \n",
            "32480            5.0             0.255         0.22             2.7   \n",
            "32481            6.6             0.360         0.52            11.3   \n",
            "32482            6.3             0.200         0.24             1.7   \n",
            "32483            6.2             0.200         0.33             5.4   \n",
            "32484            8.1             0.280         0.46            15.4   \n",
            "\n",
            "       chlorides  free sulfur dioxide  total sulfur dioxide  density    pH  \\\n",
            "0          0.047                 23.0                 107.0  0.99390  3.52   \n",
            "1          0.031                 53.0                 140.0  0.99321  3.34   \n",
            "2          0.042                 35.0                  90.0  0.99080  3.76   \n",
            "3          0.043                 33.0                 114.0  0.99020  3.16   \n",
            "4          0.030                 10.0                 131.0  0.99050  2.97   \n",
            "...          ...                  ...                   ...      ...   ...   \n",
            "32480      0.043                 46.0                 153.0  0.99238  3.75   \n",
            "32481      0.046                  8.0                 110.0  0.99660  3.07   \n",
            "32482      0.052                 36.0                 135.0  0.99374  3.80   \n",
            "32483      0.028                 21.0                  75.0  0.99012  3.36   \n",
            "32484      0.059                 32.0                 177.0  1.00040  3.27   \n",
            "\n",
            "       sulphates  alcohol        Type  quality  \n",
            "0           0.65     10.4  White Wine        6  \n",
            "1           0.46     11.7  White Wine        6  \n",
            "2           0.49     11.3  White Wine        6  \n",
            "3           0.31     12.5  White Wine        6  \n",
            "4           0.28     10.8  White Wine        5  \n",
            "...          ...      ...         ...      ...  \n",
            "32480       0.76     11.3  White Wine        6  \n",
            "32481       0.46      9.4  White Wine        5  \n",
            "32482       0.66     10.8  White Wine        6  \n",
            "32483       0.41     13.5  White Wine        7  \n",
            "32484       0.58      9.0  White Wine        4  \n",
            "\n",
            "[32485 rows x 13 columns]\n",
            "       fixed acidity  volatile acidity   citric acid  residual sugar  \\\n",
            "count   32485.000000      32485.000000  32485.000000    32485.000000   \n",
            "mean        7.214736          0.340122      0.318324        5.438696   \n",
            "std         1.308216          0.164912      0.145152        4.799221   \n",
            "min         3.800000          0.080000      0.000000        0.600000   \n",
            "25%         6.400000          0.230000      0.250000        1.800000   \n",
            "50%         7.000000          0.290000      0.310000        3.000000   \n",
            "75%         7.700000          0.410000      0.390000        8.100000   \n",
            "max        15.900000          1.580000      1.660000       65.800000   \n",
            "\n",
            "          chlorides  free sulfur dioxide  total sulfur dioxide       density  \\\n",
            "count  32485.000000         32485.000000          32485.000000  32485.000000   \n",
            "mean       0.056009            30.458258            115.656303      0.994719   \n",
            "std        0.034503            17.608076             56.456074      0.003015   \n",
            "min        0.009000             1.000000              6.000000      0.987110   \n",
            "25%        0.038000            17.000000             77.000000      0.992400   \n",
            "50%        0.047000            29.000000            118.000000      0.994900   \n",
            "75%        0.065000            41.000000            156.000000      0.997000   \n",
            "max        0.611000           289.000000            440.000000      1.038980   \n",
            "\n",
            "                 pH     sulphates       alcohol       quality  \n",
            "count  32485.000000  32485.000000  32485.000000  32485.000000  \n",
            "mean       3.219089      0.531500     10.480694      5.811698  \n",
            "std        0.161441      0.148712      1.190661      0.872474  \n",
            "min        2.720000      0.220000      8.000000      3.000000  \n",
            "25%        3.110000      0.430000      9.500000      5.000000  \n",
            "50%        3.210000      0.510000     10.300000      6.000000  \n",
            "75%        3.320000      0.600000     11.300000      6.000000  \n",
            "max        4.010000      2.000000     14.900000      9.000000  \n"
          ]
        }
      ]
    },
    {
      "cell_type": "markdown",
      "source": [
        "#2.Preprocesamiento del dataset"
      ],
      "metadata": {
        "id": "RzuA4qR8OPSt"
      }
    },
    {
      "cell_type": "markdown",
      "source": [
        "###2.1. Preprocesamiento del dataset: Separar atributos(X) de la etiqueta (y) que se va a usar para el entrenamiento\n",
        "Los atributos(X) se van a cargar en la variable \"dataset\" y la etiqueta \"y\" en la variable \"label\"."
      ],
      "metadata": {
        "id": "dqKJUIekdNnU"
      }
    },
    {
      "cell_type": "code",
      "source": [
        "dataset = dataframe.drop(\"quality\", axis=1)\n",
        "label = dataframe[\"quality\"].copy()"
      ],
      "metadata": {
        "id": "r7ThZgI1OlOQ"
      },
      "execution_count": null,
      "outputs": []
    },
    {
      "cell_type": "markdown",
      "source": [
        "###2.2. Preprocesamiento del dataset: Atributos con texto -> \"Type\"\n",
        "En nuestro dataset tenemos 1 atributo NO NUMÉRICO que es \"Type\".\\\n",
        "Cargamos en la variable type_cat y lo mostramos."
      ],
      "metadata": {
        "id": "pWKR8b3eh4Jo"
      }
    },
    {
      "cell_type": "code",
      "source": [
        "type_cat = dataframe[['Type']]\n",
        "print(type_cat.head(12))"
      ],
      "metadata": {
        "colab": {
          "base_uri": "https://localhost:8080/"
        },
        "id": "YE6BmXKWiFbF",
        "outputId": "3f3f4b88-3c4b-4904-9451-311363eb1706"
      },
      "execution_count": null,
      "outputs": [
        {
          "output_type": "stream",
          "name": "stdout",
          "text": [
            "          Type\n",
            "0   White Wine\n",
            "1   White Wine\n",
            "2   White Wine\n",
            "3   White Wine\n",
            "4   White Wine\n",
            "5   White Wine\n",
            "6   White Wine\n",
            "7   White Wine\n",
            "8   White Wine\n",
            "9   White Wine\n",
            "10    Red Wine\n",
            "11  White Wine\n"
          ]
        }
      ]
    },
    {
      "cell_type": "markdown",
      "source": [
        "###Preprocesamiento con OneHotEncoder de sklearn\n",
        "Ésto devuelve una codificación donde se indica el número de instancia dentro del dataset, número de atributo binario y el valor.\n",
        "Con el método toarray() convertimos a una matriz y mostramos sus valores y tamaño (shape)."
      ],
      "metadata": {
        "id": "BsBNEIsajUNH"
      }
    },
    {
      "cell_type": "code",
      "source": [
        "from sklearn.preprocessing import OneHotEncoder\n",
        "one_hot_encoder = OneHotEncoder()\n",
        "type_cat_one_hot = one_hot_encoder.fit_transform(type_cat)\n",
        "print(type_cat_one_hot.toarray().shape)\n",
        "print(type_cat_one_hot.toarray())"
      ],
      "metadata": {
        "colab": {
          "base_uri": "https://localhost:8080/"
        },
        "id": "vcC19LcDjZs7",
        "outputId": "0531c39b-d118-46f5-8b69-a9ebbfe3b0e1"
      },
      "execution_count": null,
      "outputs": [
        {
          "output_type": "stream",
          "name": "stdout",
          "text": [
            "(32485, 2)\n",
            "[[0. 1.]\n",
            " [0. 1.]\n",
            " [0. 1.]\n",
            " ...\n",
            " [0. 1.]\n",
            " [0. 1.]\n",
            " [0. 1.]]\n"
          ]
        }
      ]
    },
    {
      "cell_type": "markdown",
      "source": [
        "###Crear un DataFrame para las características codificadas, concatenar con las características originales y mostrar"
      ],
      "metadata": {
        "id": "v_xFQpG6jIUT"
      }
    },
    {
      "cell_type": "code",
      "source": [
        "# Crear un DataFrame para las características codificadas\n",
        "encoded_df = pd.DataFrame(type_cat_one_hot.toarray(), columns=['white_wine', 'red_wine'])\n",
        "\n",
        "# Concatenar las características originales con las características codificadas\n",
        "df_nuevo = pd.concat([dataset, encoded_df], axis=1)\n",
        "\n",
        "# Visualizar el nuevo DataFrame\n",
        "print(df_nuevo.head())"
      ],
      "metadata": {
        "colab": {
          "base_uri": "https://localhost:8080/"
        },
        "id": "dpwZR-Xtpk4E",
        "outputId": "0ed484bf-fc6a-479e-b0fa-57ecd814c6e2"
      },
      "execution_count": null,
      "outputs": [
        {
          "output_type": "stream",
          "name": "stdout",
          "text": [
            "   fixed acidity  volatile acidity  citric acid  residual sugar  chlorides  \\\n",
            "0            7.4             0.170         0.29             1.4      0.047   \n",
            "1            5.3             0.310         0.38            10.5      0.031   \n",
            "2            4.7             0.145         0.29             1.0      0.042   \n",
            "3            6.9             0.260         0.29             4.2      0.043   \n",
            "4            6.4             0.450         0.07             1.1      0.030   \n",
            "\n",
            "   free sulfur dioxide  total sulfur dioxide  density    pH  sulphates  \\\n",
            "0                 23.0                 107.0  0.99390  3.52       0.65   \n",
            "1                 53.0                 140.0  0.99321  3.34       0.46   \n",
            "2                 35.0                  90.0  0.99080  3.76       0.49   \n",
            "3                 33.0                 114.0  0.99020  3.16       0.31   \n",
            "4                 10.0                 131.0  0.99050  2.97       0.28   \n",
            "\n",
            "   alcohol        Type  white_wine  red_wine  \n",
            "0     10.4  White Wine         0.0       1.0  \n",
            "1     11.7  White Wine         0.0       1.0  \n",
            "2     11.3  White Wine         0.0       1.0  \n",
            "3     12.5  White Wine         0.0       1.0  \n",
            "4     10.8  White Wine         0.0       1.0  \n"
          ]
        }
      ]
    },
    {
      "cell_type": "markdown",
      "source": [
        "###Eliminar la característica \"Type\" del df_nuevo"
      ],
      "metadata": {
        "id": "MDklcrMOkUsP"
      }
    },
    {
      "cell_type": "code",
      "source": [
        "# Eliminar la característica 'Type' de df_nuevo:\n",
        "df_nuevo_sin_type = df_nuevo.drop(columns=['Type'])\n",
        "\n",
        "# Visualizar el nuevo DataFrame sin la característica 'Type'\n",
        "print(df_nuevo_sin_type.head())"
      ],
      "metadata": {
        "colab": {
          "base_uri": "https://localhost:8080/"
        },
        "id": "PknRhbSuvFsI",
        "outputId": "a7deec67-ab64-4176-a8e5-46c8a453a8ee"
      },
      "execution_count": null,
      "outputs": [
        {
          "output_type": "stream",
          "name": "stdout",
          "text": [
            "   fixed acidity  volatile acidity  citric acid  residual sugar  chlorides  \\\n",
            "0            7.4             0.170         0.29             1.4      0.047   \n",
            "1            5.3             0.310         0.38            10.5      0.031   \n",
            "2            4.7             0.145         0.29             1.0      0.042   \n",
            "3            6.9             0.260         0.29             4.2      0.043   \n",
            "4            6.4             0.450         0.07             1.1      0.030   \n",
            "\n",
            "   free sulfur dioxide  total sulfur dioxide  density    pH  sulphates  \\\n",
            "0                 23.0                 107.0  0.99390  3.52       0.65   \n",
            "1                 53.0                 140.0  0.99321  3.34       0.46   \n",
            "2                 35.0                  90.0  0.99080  3.76       0.49   \n",
            "3                 33.0                 114.0  0.99020  3.16       0.31   \n",
            "4                 10.0                 131.0  0.99050  2.97       0.28   \n",
            "\n",
            "   alcohol  white_wine  red_wine  \n",
            "0     10.4         0.0       1.0  \n",
            "1     11.7         0.0       1.0  \n",
            "2     11.3         0.0       1.0  \n",
            "3     12.5         0.0       1.0  \n",
            "4     10.8         0.0       1.0  \n"
          ]
        }
      ]
    },
    {
      "cell_type": "markdown",
      "source": [
        "###2.3. Adecuar los valores de \"quality\"  ->  \"y\"\n",
        "La calidad del vino está clasificada entre 0 y 8.\\\n",
        "Adecuamos los valores de esta forma:\\\n",
        "0-4 (mala calidad) -> 0\\\n",
        "5-8 (buena calidad) -> 1"
      ],
      "metadata": {
        "id": "MqRyn-YQx1mR"
      }
    },
    {
      "cell_type": "code",
      "source": [
        "# La serie 'label' contiene los valores de calidad del vino.\n",
        "# Primero, se crea una función que mapea los valores según nuestras condiciones.\n",
        "def map_quality(value):\n",
        "    if value <= 4:\n",
        "        return 0\n",
        "    else:\n",
        "        return 1\n",
        "\n",
        "# Aplica la función map_quality a la serie 'label'\n",
        "label_mapped = label.map(map_quality)\n",
        "\n",
        "# Visualiza los primeros valores de la serie 'label' mapeada\n",
        "print(label_mapped.head())"
      ],
      "metadata": {
        "colab": {
          "base_uri": "https://localhost:8080/"
        },
        "id": "HgmFKd-gx7t3",
        "outputId": "0f485fc6-840c-4862-e008-36cdfbe7948a"
      },
      "execution_count": null,
      "outputs": [
        {
          "output_type": "stream",
          "name": "stdout",
          "text": [
            "0    1\n",
            "1    1\n",
            "2    1\n",
            "3    1\n",
            "4    1\n",
            "Name: quality, dtype: int64\n"
          ]
        }
      ]
    },
    {
      "cell_type": "markdown",
      "source": [
        "###Concatenamos 'quality' a df_nuevo_sin_type. El DataFrame final es: df_final\n"
      ],
      "metadata": {
        "id": "y4_nLSQendh4"
      }
    },
    {
      "cell_type": "code",
      "source": [
        "# Previamente ya definimos df_nuevo_sin_type y label_mapped\n",
        "# Concatenamos 'quality' a df_nuevo_sin_type de la siguiente manera:\n",
        "df_final = pd.concat([df_nuevo_sin_type, label_mapped], axis=1)\n",
        "\n",
        "# Visualizar el nuevo DataFrame final\n",
        "print(df_final.head())"
      ],
      "metadata": {
        "colab": {
          "base_uri": "https://localhost:8080/"
        },
        "id": "CXppfSZFv0Qo",
        "outputId": "48702e01-1580-4a1c-a037-48726c813585"
      },
      "execution_count": null,
      "outputs": [
        {
          "output_type": "stream",
          "name": "stdout",
          "text": [
            "   fixed acidity  volatile acidity  citric acid  residual sugar  chlorides  \\\n",
            "0            7.4             0.170         0.29             1.4      0.047   \n",
            "1            5.3             0.310         0.38            10.5      0.031   \n",
            "2            4.7             0.145         0.29             1.0      0.042   \n",
            "3            6.9             0.260         0.29             4.2      0.043   \n",
            "4            6.4             0.450         0.07             1.1      0.030   \n",
            "\n",
            "   free sulfur dioxide  total sulfur dioxide  density    pH  sulphates  \\\n",
            "0                 23.0                 107.0  0.99390  3.52       0.65   \n",
            "1                 53.0                 140.0  0.99321  3.34       0.46   \n",
            "2                 35.0                  90.0  0.99080  3.76       0.49   \n",
            "3                 33.0                 114.0  0.99020  3.16       0.31   \n",
            "4                 10.0                 131.0  0.99050  2.97       0.28   \n",
            "\n",
            "   alcohol  white_wine  red_wine  quality  \n",
            "0     10.4         0.0       1.0        1  \n",
            "1     11.7         0.0       1.0        1  \n",
            "2     11.3         0.0       1.0        1  \n",
            "3     12.5         0.0       1.0        1  \n",
            "4     10.8         0.0       1.0        1  \n"
          ]
        }
      ]
    },
    {
      "cell_type": "markdown",
      "metadata": {
        "id": "t52vBnb_JVNe"
      },
      "source": [
        "#3. Aplicación de la Regresión Logística\n",
        "\n",
        "Se crea un modelo de regresión logística para predecir la calidad del vino.\n",
        "\n",
        "A continuación se cargará los datos y las etiquetas correspondientes."
      ]
    },
    {
      "cell_type": "markdown",
      "source": [
        "###3.1. Los datos se dividen en dos partes: Entrenamiento (80% de los ejemplos) y Prueba (20% de los ejemplos)\n",
        "En pandas, para seleccionar filas y columnas específicas, se utiliza los métodos iloc[] o loc[].\\\n",
        "El método iloc[] se utiliza para seleccionar datos mediante la posición de las filas y columnas en el DataFrame."
      ],
      "metadata": {
        "id": "-Np0S9XH4ROl"
      }
    },
    {
      "cell_type": "code",
      "execution_count": null,
      "metadata": {
        "colab": {
          "base_uri": "https://localhost:8080/"
        },
        "id": "WVzUelTXJVNe",
        "outputId": "2c244ddd-6189-43bf-8863-5138e9040c67"
      },
      "outputs": [
        {
          "output_type": "stream",
          "name": "stdout",
          "text": [
            "       fixed acidity  volatile acidity  citric acid  residual sugar  \\\n",
            "1                5.3             0.310         0.38            10.5   \n",
            "2                4.7             0.145         0.29             1.0   \n",
            "3                6.9             0.260         0.29             4.2   \n",
            "4                6.4             0.450         0.07             1.1   \n",
            "5                8.4             0.320         0.35            11.7   \n",
            "...              ...               ...          ...             ...   \n",
            "25983            6.4             0.270         0.49             7.3   \n",
            "25984            8.3             0.160         0.37             7.9   \n",
            "25985            9.2             0.310         0.36             2.2   \n",
            "25986            8.3             0.210         0.49            19.8   \n",
            "25987            6.7             0.170         0.27             1.4   \n",
            "\n",
            "       chlorides  free sulfur dioxide  total sulfur dioxide  density    pH  \\\n",
            "1          0.031                 53.0                 140.0  0.99321  3.34   \n",
            "2          0.042                 35.0                  90.0  0.99080  3.76   \n",
            "3          0.043                 33.0                 114.0  0.99020  3.16   \n",
            "4          0.030                 10.0                 131.0  0.99050  2.97   \n",
            "5          0.029                  3.0                  46.0  0.99439  3.02   \n",
            "...          ...                  ...                   ...      ...   ...   \n",
            "25983      0.046                 53.0                 206.0  0.99560  3.24   \n",
            "25984      0.025                 38.0                 107.0  0.99306  2.93   \n",
            "25985      0.079                 11.0                  31.0  0.99615  3.33   \n",
            "25986      0.054                 50.0                 231.0  1.00120  2.99   \n",
            "25987      0.032                 39.0                 149.0  0.99254  3.40   \n",
            "\n",
            "       sulphates  alcohol  white_wine  red_wine  \n",
            "1           0.46     11.7         0.0       1.0  \n",
            "2           0.49     11.3         0.0       1.0  \n",
            "3           0.31     12.5         0.0       1.0  \n",
            "4           0.28     10.8         0.0       1.0  \n",
            "5           0.34     11.8         0.0       1.0  \n",
            "...          ...      ...         ...       ...  \n",
            "25983       0.43      9.2         0.0       1.0  \n",
            "25984       0.37     11.9         0.0       1.0  \n",
            "25985       0.86     12.0         1.0       0.0  \n",
            "25986       0.54      9.2         0.0       1.0  \n",
            "25987       0.52     10.5         0.0       1.0  \n",
            "\n",
            "[25987 rows x 13 columns]\n",
            "1        1\n",
            "2        1\n",
            "3        1\n",
            "4        1\n",
            "5        1\n",
            "        ..\n",
            "25983    1\n",
            "25984    1\n",
            "25985    1\n",
            "25986    1\n",
            "25987    1\n",
            "Name: quality, Length: 25987, dtype: int64\n"
          ]
        }
      ],
      "source": [
        "# Cargar datos\n",
        "# Las doce primeras columnas contienen los compuestos del vino y la columna trece\n",
        "# contiene la etiqueta que indica si el vino tiene \"mala\"(0) o \"buena\"(1) calidad.\n",
        "\n",
        "# Definir X_train, y_train, X_test, y_test\n",
        "X_train = df_final.iloc[1:25988, 0:13]\n",
        "y_train = df_final.iloc[1:25988, 13]\n",
        "X_test = df_final.iloc[25988:, 0:13]\n",
        "y_test = df_final.iloc[25988:, 13]\n",
        "\n",
        "# Visualizar X_train y y_train\n",
        "print(X_train)\n",
        "print(y_train)"
      ]
    },
    {
      "cell_type": "markdown",
      "metadata": {
        "id": "Pfpf9aEFJVNg"
      },
      "source": [
        "<a id=\"section1\"></a>\n",
        "### 3.2 Implementacion\n",
        "\n",
        "\n",
        "### Hipótesis para la regresión logística:\n",
        "\n",
        "$$ h_\\theta(x) = g(\\theta^T x)$$\n",
        "\n",
        "### Función Sigmoidea:\n",
        "\n",
        "$$g(z) = \\frac{1}{1+e^{-z}}$$."
      ]
    },
    {
      "cell_type": "markdown",
      "source": [
        "###Definición de la función sigmoidea g:\n",
        "\n"
      ],
      "metadata": {
        "id": "tunc_xc19DZG"
      }
    },
    {
      "cell_type": "code",
      "execution_count": null,
      "metadata": {
        "id": "pk9dV23xJVNh"
      },
      "outputs": [],
      "source": [
        "def sigmoid(z):\n",
        "    # Calcula la sigmoide de una entrada z\n",
        "    # convierte la entrada a un arreglo numpy\n",
        "    z = np.array(z)\n",
        "\n",
        "    g = np.zeros(z.shape)\n",
        "\n",
        "    g = 1 / (1 + np.exp(-z))\n",
        "\n",
        "    return g"
      ]
    },
    {
      "cell_type": "markdown",
      "source": [
        "###Cálculo del valor de la sigmoidea para z=0,  z=0.25,  z=0.5,  z=0.75  y  z=1"
      ],
      "metadata": {
        "id": "rNSeEJkH9mYJ"
      }
    },
    {
      "cell_type": "code",
      "execution_count": null,
      "metadata": {
        "colab": {
          "base_uri": "https://localhost:8080/"
        },
        "id": "uIPk61NLJVNh",
        "outputId": "ca3f9443-f134-4cd2-cd2f-342d4c48208f"
      },
      "outputs": [
        {
          "output_type": "stream",
          "name": "stdout",
          "text": [
            "g( [0, 0.25, 0.5, 0.75, 1] ) =  [0.5        0.5621765  0.62245933 0.6791787  0.73105858]\n"
          ]
        }
      ],
      "source": [
        "# Prueba la implementacion de la funcion sigmoidea\n",
        "z = [0, 0.25, 0.5, 0.75,  1]\n",
        "g = sigmoid(z)\n",
        "\n",
        "print('g(', z, ') = ', g)"
      ]
    },
    {
      "cell_type": "markdown",
      "source": [
        "###3.3. Normalización de los valores de las características"
      ],
      "metadata": {
        "id": "guXBGrwn-fIQ"
      }
    },
    {
      "cell_type": "code",
      "source": [
        "import numpy as np\n",
        "\n",
        "# Los datos preprocesados lo tenemos en el DataFrame llamado df_final. Vamos a normalizar las características (columnas 0 a 12)\n",
        "X = df_final.iloc[:, 0:13]\n",
        "\n",
        "# Las etiquetas están en la columna 13 del DataFrame df_final\n",
        "y = df_final.iloc[:, 13]\n",
        "\n",
        "\n",
        "def  featureNormalize(X):\n",
        "    X_norm = X.copy()\n",
        "    mu = np.zeros(X.shape[1])\n",
        "    sigma = np.zeros(X.shape[1])\n",
        "\n",
        "    mu = np.mean(X, axis = 0)\n",
        "    sigma = np.std(X, axis = 0)\n",
        "    X_norm = (X - mu) / sigma\n",
        "\n",
        "    return X_norm, mu, sigma"
      ],
      "metadata": {
        "id": "HWF5C5Jt8wNb"
      },
      "execution_count": null,
      "outputs": []
    },
    {
      "cell_type": "code",
      "source": [
        "# llama featureNormalize con los datos cargados\n",
        "X_norm, mu, sigma = featureNormalize(X)"
      ],
      "metadata": {
        "id": "F-d-0BDK80lH"
      },
      "execution_count": null,
      "outputs": []
    },
    {
      "cell_type": "markdown",
      "metadata": {
        "id": "tDl3_8hvJVNi"
      },
      "source": [
        "<a id=\"section2\"></a>\n",
        "###3.4. Agregar el término de intersección a X ->  X0 (bias)   con np.ones()"
      ]
    },
    {
      "cell_type": "code",
      "execution_count": null,
      "metadata": {
        "id": "ELtMkiYDJVNi"
      },
      "outputs": [],
      "source": [
        "# Configurar la matriz adecuadamente, y agregar una columna de unos que corresponde al termino de intercepción.\n",
        "m, n = X.shape\n",
        "# Agraga el termino de intercepción a A\n",
        "X = np.concatenate([np.ones((m, 1)), X_norm], axis=1)\n",
        "# X = np.concatenate([np.ones((m, 1)), X], axis=1)"
      ]
    },
    {
      "cell_type": "markdown",
      "source": [
        "<a id=\"section2\"></a>\n",
        "###3.5. Función de Costo y Gradiente para regresión logística"
      ],
      "metadata": {
        "id": "Vl-LEV1GAJr8"
      }
    },
    {
      "cell_type": "markdown",
      "metadata": {
        "id": "dREHB51mJVNi"
      },
      "source": [
        "Función de costo:\n",
        "\n",
        "$$ J(\\theta) = \\frac{1}{m} \\sum_{i=1}^{m} \\left[ -y^{(i)} \\log\\left(h_\\theta\\left( x^{(i)} \\right) \\right) - \\left( 1 - y^{(i)}\\right) \\log \\left( 1 - h_\\theta\\left( x^{(i)} \\right) \\right) \\right]$$\n",
        "\n",
        "Gradiente del costo: Vector de la misma longitud como $\\theta$ donde el elemento $j^{th}$ (para $j = 0, 1, \\cdots , n$) se define como:\n",
        "\n",
        "$$ \\frac{\\partial J(\\theta)}{\\partial \\theta_j} = \\frac{1}{m} \\sum_{i=1}^m \\left( h_\\theta \\left( x^{(i)} \\right) - y^{(i)} \\right) x_j^{(i)} $$\n",
        "<a id=\"costFunction\"></a>"
      ]
    },
    {
      "cell_type": "markdown",
      "source": [
        "###Definición de la función calcularCosto()"
      ],
      "metadata": {
        "id": "mVYxAkxAB65v"
      }
    },
    {
      "cell_type": "code",
      "execution_count": null,
      "metadata": {
        "id": "iqDZRIgjJVNi"
      },
      "outputs": [],
      "source": [
        "def calcularCosto(theta, X, y):\n",
        "    # Inicializar algunos valores utiles\n",
        "    m = y.size  # numero de ejemplos de entrenamiento\n",
        "\n",
        "    J = 0\n",
        "    h = sigmoid(X.dot(theta.T))\n",
        "    J = (1 / m) * np.sum(-y.dot(np.log(h)) - (1 - y).dot(np.log(1 - h)))\n",
        "\n",
        "    return J"
      ]
    },
    {
      "cell_type": "markdown",
      "source": [
        "###Definición de la función descensoGradiente()"
      ],
      "metadata": {
        "id": "o1-Re3bMCKeV"
      }
    },
    {
      "cell_type": "code",
      "execution_count": null,
      "metadata": {
        "id": "7G4SjTrwJVNi"
      },
      "outputs": [],
      "source": [
        "def descensoGradiente(theta, X, y, alpha, num_iters):\n",
        "    # Inicializa algunos valores\n",
        "    m = y.shape[0] # numero de ejemplos de entrenamiento\n",
        "\n",
        "    # realiza una copia de theta, el cual será acutalizada por el descenso por el gradiente\n",
        "    theta = theta.copy()\n",
        "    J_history = []\n",
        "\n",
        "    for i in range(num_iters):\n",
        "        h = sigmoid(X.dot(theta.T))\n",
        "        theta = theta - (alpha / m) * (h - y).dot(X)\n",
        "\n",
        "        J_history.append(calcularCosto(theta, X, y))\n",
        "    return theta, J_history"
      ]
    },
    {
      "cell_type": "markdown",
      "source": [
        "##Iteraciones:\n",
        "###alpha = 0.001\n",
        "###num_iters = 40000\n",
        "###theta igual a un vector de ceros."
      ],
      "metadata": {
        "id": "LvXc6tB5Cl7R"
      }
    },
    {
      "cell_type": "code",
      "execution_count": null,
      "metadata": {
        "scrolled": true,
        "colab": {
          "base_uri": "https://localhost:8080/",
          "height": 501
        },
        "id": "rBUlehg6JVNi",
        "outputId": "7612b54f-3fbf-47a4-dd97-8d97e258e843"
      },
      "outputs": [
        {
          "output_type": "stream",
          "name": "stdout",
          "text": [
            "theta calculado por el descenso por el gradiente: [ 2.98868368 -0.06338118 -0.43843408  0.08159916  0.1654759  -0.02269752\n",
            "  0.25118383  0.01789404 -0.02545183 -0.01192613  0.09917959  0.19640052\n",
            "  0.22805178 -0.22805178]\n"
          ]
        },
        {
          "output_type": "display_data",
          "data": {
            "text/plain": [
              "<Figure size 640x480 with 1 Axes>"
            ],
            "image/png": "[encoded data removed]"
          },
          "metadata": {}
        }
      ],
      "source": [
        "# Elegir algun valor para alpha (probar varias alternativas)\n",
        "alpha = 0.001\n",
        "num_iters = 40000\n",
        "\n",
        "# inicializa theta y ejecuta el descenso por el gradiente\n",
        "theta = np.zeros(14)\n",
        "theta, J_history = descensoGradiente(theta, X, y, alpha, num_iters)\n",
        "\n",
        "# Grafica la convergencia del costo\n",
        "pyplot.plot(np.arange(len(J_history)), J_history, lw=2)\n",
        "pyplot.xlabel('Numero de iteraciones')\n",
        "pyplot.ylabel('Costo J')\n",
        "\n",
        "# Muestra los resultados del descenso por el gradiente\n",
        "print('theta calculado por el descenso por el gradiente: {:s}'.format(str(theta)))"
      ]
    },
    {
      "cell_type": "markdown",
      "source": [
        "####Observación: A partir de 35000 iteraciones, el costo se mantiene cerca de 0.1 por lo cual no es necesario más de 40000 iteraciones."
      ],
      "metadata": {
        "id": "w159vR1XENep"
      }
    },
    {
      "cell_type": "markdown",
      "source": [
        "#4. Procesamiento de los ejemplos de prueba (20% de los datos)"
      ],
      "metadata": {
        "id": "EO9AWIgMKt1R"
      }
    },
    {
      "cell_type": "markdown",
      "source": [
        "###Impresión de los datos de prueba y los valores de theta previamente calculados"
      ],
      "metadata": {
        "id": "L3SkzM7pPS0Q"
      }
    },
    {
      "cell_type": "code",
      "source": [
        "print(X_test)\n",
        "print('Valores de theta:')\n",
        "print(theta)"
      ],
      "metadata": {
        "colab": {
          "base_uri": "https://localhost:8080/"
        },
        "id": "X0wA1m-yX0J2",
        "outputId": "c64af729-1269-4921-cc73-7e3dc7ab850a"
      },
      "execution_count": null,
      "outputs": [
        {
          "output_type": "stream",
          "name": "stdout",
          "text": [
            "       fixed acidity  volatile acidity  citric acid  residual sugar  \\\n",
            "25988            7.0             0.805         0.00             2.5   \n",
            "25989            6.7             0.300         0.44            18.5   \n",
            "25990            5.8             0.280         0.66             9.1   \n",
            "25991            6.4             0.240         0.49             5.8   \n",
            "25992            7.4             0.200         0.28             9.1   \n",
            "...              ...               ...          ...             ...   \n",
            "32480            5.0             0.255         0.22             2.7   \n",
            "32481            6.6             0.360         0.52            11.3   \n",
            "32482            6.3             0.200         0.24             1.7   \n",
            "32483            6.2             0.200         0.33             5.4   \n",
            "32484            8.1             0.280         0.46            15.4   \n",
            "\n",
            "       chlorides  free sulfur dioxide  total sulfur dioxide  density    pH  \\\n",
            "25988      0.068                  7.0                  20.0  0.99690  3.48   \n",
            "25989      0.057                 65.0                 224.0  0.99956  3.11   \n",
            "25990      0.039                 26.0                 159.0  0.99650  3.66   \n",
            "25991      0.053                 25.0                 120.0  0.99420  3.01   \n",
            "25992      0.047                 29.0                  95.0  0.99532  3.16   \n",
            "...          ...                  ...                   ...      ...   ...   \n",
            "32480      0.043                 46.0                 153.0  0.99238  3.75   \n",
            "32481      0.046                  8.0                 110.0  0.99660  3.07   \n",
            "32482      0.052                 36.0                 135.0  0.99374  3.80   \n",
            "32483      0.028                 21.0                  75.0  0.99012  3.36   \n",
            "32484      0.059                 32.0                 177.0  1.00040  3.27   \n",
            "\n",
            "       sulphates  alcohol  white_wine  red_wine  \n",
            "25988       0.56      9.6         1.0       0.0  \n",
            "25989       0.53      9.1         0.0       1.0  \n",
            "25990       0.55     10.8         0.0       1.0  \n",
            "25991       0.98     10.5         0.0       1.0  \n",
            "25992       0.47      9.8         0.0       1.0  \n",
            "...          ...      ...         ...       ...  \n",
            "32480       0.76     11.3         0.0       1.0  \n",
            "32481       0.46      9.4         0.0       1.0  \n",
            "32482       0.66     10.8         0.0       1.0  \n",
            "32483       0.41     13.5         0.0       1.0  \n",
            "32484       0.58      9.0         0.0       1.0  \n",
            "\n",
            "[6497 rows x 13 columns]\n",
            "Valores de theta:\n",
            "[ 2.98868368 -0.06338118 -0.43843408  0.08159916  0.1654759  -0.02269752\n",
            "  0.25118383  0.01789404 -0.02545183 -0.01192613  0.09917959  0.19640052\n",
            "  0.22805178 -0.22805178]\n"
          ]
        }
      ]
    },
    {
      "cell_type": "markdown",
      "source": [
        "###Visualización de las características y etiqueta para los ejemplos de Prueba:"
      ],
      "metadata": {
        "id": "oH13wCdnLJ7A"
      }
    },
    {
      "cell_type": "code",
      "source": [
        "X_test, y_test = df_final.iloc[25988:, 0:13], df_final.iloc[25988:, 13]\n",
        "print(X_test)\n",
        "print(y_test)"
      ],
      "metadata": {
        "colab": {
          "base_uri": "https://localhost:8080/"
        },
        "id": "Tk_WZUvrZjac",
        "outputId": "700e9c5f-3443-43e2-fa5e-2a36e25a4d9a"
      },
      "execution_count": null,
      "outputs": [
        {
          "output_type": "stream",
          "name": "stdout",
          "text": [
            "       fixed acidity  volatile acidity  citric acid  residual sugar  \\\n",
            "25988            7.0             0.805         0.00             2.5   \n",
            "25989            6.7             0.300         0.44            18.5   \n",
            "25990            5.8             0.280         0.66             9.1   \n",
            "25991            6.4             0.240         0.49             5.8   \n",
            "25992            7.4             0.200         0.28             9.1   \n",
            "...              ...               ...          ...             ...   \n",
            "32480            5.0             0.255         0.22             2.7   \n",
            "32481            6.6             0.360         0.52            11.3   \n",
            "32482            6.3             0.200         0.24             1.7   \n",
            "32483            6.2             0.200         0.33             5.4   \n",
            "32484            8.1             0.280         0.46            15.4   \n",
            "\n",
            "       chlorides  free sulfur dioxide  total sulfur dioxide  density    pH  \\\n",
            "25988      0.068                  7.0                  20.0  0.99690  3.48   \n",
            "25989      0.057                 65.0                 224.0  0.99956  3.11   \n",
            "25990      0.039                 26.0                 159.0  0.99650  3.66   \n",
            "25991      0.053                 25.0                 120.0  0.99420  3.01   \n",
            "25992      0.047                 29.0                  95.0  0.99532  3.16   \n",
            "...          ...                  ...                   ...      ...   ...   \n",
            "32480      0.043                 46.0                 153.0  0.99238  3.75   \n",
            "32481      0.046                  8.0                 110.0  0.99660  3.07   \n",
            "32482      0.052                 36.0                 135.0  0.99374  3.80   \n",
            "32483      0.028                 21.0                  75.0  0.99012  3.36   \n",
            "32484      0.059                 32.0                 177.0  1.00040  3.27   \n",
            "\n",
            "       sulphates  alcohol  white_wine  red_wine  \n",
            "25988       0.56      9.6         1.0       0.0  \n",
            "25989       0.53      9.1         0.0       1.0  \n",
            "25990       0.55     10.8         0.0       1.0  \n",
            "25991       0.98     10.5         0.0       1.0  \n",
            "25992       0.47      9.8         0.0       1.0  \n",
            "...          ...      ...         ...       ...  \n",
            "32480       0.76     11.3         0.0       1.0  \n",
            "32481       0.46      9.4         0.0       1.0  \n",
            "32482       0.66     10.8         0.0       1.0  \n",
            "32483       0.41     13.5         0.0       1.0  \n",
            "32484       0.58      9.0         0.0       1.0  \n",
            "\n",
            "[6497 rows x 13 columns]\n",
            "25988    1\n",
            "25989    1\n",
            "25990    1\n",
            "25991    1\n",
            "25992    1\n",
            "        ..\n",
            "32480    1\n",
            "32481    1\n",
            "32482    1\n",
            "32483    1\n",
            "32484    0\n",
            "Name: quality, Length: 6497, dtype: int64\n"
          ]
        }
      ]
    },
    {
      "cell_type": "markdown",
      "source": [
        "###Predicción de la calidad de un vino utilizando la regresión logística (Primer ejemplo del conjunto de prueba)\n",
        "X_test_norm, mu, sigma = featureNormalize(X_test): Normaliza las características de prueba X_test utilizando la función featureNormalize.\\\n",
        "X_test_norm = np.concatenate([np.ones((m, 1)), X_test_norm], axis=1): Agrega una columna de unos (sesgo) al inicio de la matriz de características normalizadas."
      ],
      "metadata": {
        "id": "7LvMmiQnOp00"
      }
    },
    {
      "cell_type": "code",
      "source": [
        "# verificar si un vino tiene calidad buena o mala\n",
        "# X_array = [1, 7.0, 0.805, 0.00, 2.5, 0.068, 7.0, 20, 0.99690, 3.48, 0.56, 9.6, 1.0, 0.0]\n",
        "X_test_norm, mu, sigma = featureNormalize(X_test)\n",
        "m, n = X_test_norm.shape\n",
        "X_test_norm = np.concatenate([np.ones((m, 1)), X_test_norm], axis=1)\n",
        "calidad = sigmoid(np.dot(X_test_norm, theta))   # Se debe cambiar esto\n",
        "print(calidad)\n",
        "print('Un vino con los siguientes datos [1, 7.0, 0.805, 0.00, 2.5, 0.068, 7.0, 20, 0.99690, 3.48, 0.56, 9.6, 1.0, 0.0] tiene como probabilidad de tener buena calidad: {:.0f}'.format(calidad[0]))"
      ],
      "metadata": {
        "colab": {
          "base_uri": "https://localhost:8080/"
        },
        "id": "dWgvq4HHXThp",
        "outputId": "c78b635f-83e3-4f7f-b204-a2bbaf419419"
      },
      "execution_count": null,
      "outputs": [
        {
          "output_type": "stream",
          "name": "stdout",
          "text": [
            "[0.85097872 0.97472581 0.96292671 ... 0.95949059 0.96985068 0.95487837]\n",
            "Un vino con los siguientes datos [1, 7.0, 0.805, 0.00, 2.5, 0.068, 7.0, 20, 0.99690, 3.48, 0.56, 9.6, 1.0, 0.0] tiene como probabilidad de tener buena calidad: 1\n"
          ]
        }
      ]
    },
    {
      "cell_type": "code",
      "source": [
        "print(X_test_norm)\n",
        "#Valores de theta a partir del conjunto de entrenamiento\n",
        "print(theta)\n",
        "predict = sigmoid(np.dot(X_test_norm[0], theta))   # Se debe cambiar esto\n",
        "print(predict)\n",
        "# print(y_test)"
      ],
      "metadata": {
        "colab": {
          "base_uri": "https://localhost:8080/"
        },
        "id": "ii3TtU2LY9_p",
        "outputId": "242cd505-96a7-4d2f-dfc3-225386442692"
      },
      "execution_count": null,
      "outputs": [
        {
          "output_type": "stream",
          "name": "stdout",
          "text": [
            "[[ 1.         -0.14898755  2.83334224 ... -0.73254302  1.75309847\n",
            "  -1.75309847]\n",
            " [ 1.         -0.37787668 -0.24026419 ... -1.1497538  -0.57041862\n",
            "   0.57041862]\n",
            " [ 1.         -1.06454406 -0.36199118 ...  0.26876286 -0.57041862\n",
            "   0.57041862]\n",
            " ...\n",
            " [ 1.         -0.68306218 -0.84889913 ...  0.26876286 -0.57041862\n",
            "   0.57041862]\n",
            " [ 1.         -0.75935856 -0.84889913 ...  2.52170108 -0.57041862\n",
            "   0.57041862]\n",
            " [ 1.          0.69027258 -0.36199118 ... -1.23319596 -0.57041862\n",
            "   0.57041862]]\n",
            "[ 2.98868368 -0.06338118 -0.43843408  0.08159916  0.1654759  -0.02269752\n",
            "  0.25118383  0.01789404 -0.02545183 -0.01192613  0.09917959  0.19640052\n",
            "  0.22805178 -0.22805178]\n",
            "0.8509787160286466\n"
          ]
        }
      ]
    },
    {
      "cell_type": "markdown",
      "source": [
        "###Predicción para todo el conjunto de prueba"
      ],
      "metadata": {
        "id": "msrOQES8coA4"
      }
    },
    {
      "cell_type": "code",
      "source": [
        "predictions = []\n",
        "\n",
        "# Iterar sobre cada ejemplo en X_test_norm\n",
        "for example in X_test_norm:\n",
        "    # Calcular la predicción para el ejemplo actual\n",
        "    prediction = sigmoid(np.dot(example, theta))\n",
        "    # Agregar la predicción a la lista de predicciones\n",
        "    predictions.append(prediction)\n",
        "\n",
        "# Convertir la lista de predicciones a un arreglo de numpy\n",
        "predictions = np.array(predictions)\n",
        "\n",
        "# Imprimir las predicciones\n",
        "print(predictions)"
      ],
      "metadata": {
        "colab": {
          "base_uri": "https://localhost:8080/"
        },
        "id": "RPuZDKBlcsdD",
        "outputId": "9b23cd79-5fab-4abd-ea56-a17d983755cf"
      },
      "execution_count": null,
      "outputs": [
        {
          "output_type": "stream",
          "name": "stdout",
          "text": [
            "[0.85097872 0.97472581 0.96292671 ... 0.95949059 0.96985068 0.95487837]\n"
          ]
        }
      ]
    }
  ],
  "metadata": {
    "kernelspec": {
      "display_name": "Python 3",
      "language": "python",
      "name": "python3"
    },
    "language_info": {
      "codemirror_mode": {
        "name": "ipython",
        "version": 3
      },
      "file_extension": ".py",
      "mimetype": "text/x-python",
      "name": "python",
      "nbconvert_exporter": "python",
      "pygments_lexer": "ipython3",
      "version": "3.8.5"
    },
    "colab": {
      "provenance": [],
      "include_colab_link": true
    }
  },
  "nbformat": 4,
  "nbformat_minor": 0
}