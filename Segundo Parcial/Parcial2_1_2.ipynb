{
  "nbformat": 4,
  "nbformat_minor": 0,
  "metadata": {
    "colab": {
      "provenance": [],
      "gpuType": "T4",
      "include_colab_link": true
    },
    "kernelspec": {
      "name": "python3",
      "display_name": "Python 3"
    },
    "language_info": {
      "name": "python"
    },
    "accelerator": "GPU"
  },
  "cells": [
    {
      "cell_type": "markdown",
      "metadata": {
        "id": "view-in-github",
        "colab_type": "text"
      },
      "source": [
        "<a href=\"https://colab.research.google.com/github/zilavalencia/ChungaraVZila-IA-SIS420/blob/main/Segundo%20Parcial/Parcial2_1_2.ipynb\" target=\"_parent\"><img src=\"https://colab.research.google.com/assets/colab-badge.svg\" alt=\"Open In Colab\"/></a>"
      ]
    },
    {
      "cell_type": "code",
      "execution_count": 1,
      "metadata": {
        "id": "KdwDsvgB67H3"
      },
      "outputs": [],
      "source": [
        "# Importing necessary libraries\n",
        "from matplotlib import pyplot as plt\n",
        "import os\n",
        "import numpy as np\n",
        "import pandas as pd\n",
        "from scipy import optimize\n",
        "from sklearn.model_selection import train_test_split\n",
        "from imblearn.over_sampling import SMOTE\n",
        "from sklearn.utils import shuffle\n",
        "from sklearn.preprocessing import LabelEncoder, StandardScaler\n",
        "from google.colab import drive\n",
        "from sklearn.cluster import KMeans\n",
        "from sklearn.metrics import silhouette_score, accuracy_score, confusion_matrix\n",
        "from sklearn.linear_model import LogisticRegression\n",
        "import seaborn as sns"
      ]
    },
    {
      "cell_type": "code",
      "source": [
        "# Mount Google Drive\n",
        "drive.mount('/content/drive')"
      ],
      "metadata": {
        "colab": {
          "base_uri": "https://localhost:8080/"
        },
        "id": "UvtMGchH7Ae8",
        "outputId": "9ce8590a-18a9-43b5-fa53-de71d8b322ac"
      },
      "execution_count": 2,
      "outputs": [
        {
          "output_type": "stream",
          "name": "stdout",
          "text": [
            "Mounted at /content/drive\n"
          ]
        }
      ]
    },
    {
      "cell_type": "code",
      "source": [
        "# Configurar Pandas para que no corte la visualización\n",
        "pd.set_option('display.max_rows', 50)\n",
        "pd.set_option('display.max_columns', None)\n",
        "\n",
        "# Leer el conjunto de datos de entrenamiento\n",
        "train_data = pd.read_csv(\"/content/drive/MyDrive/ia/pregunta1_2/train_dataset.csv\", delimiter=\",\")\n",
        "\n",
        "# Leer el conjunto de datos de prueba\n",
        "test_data = pd.read_csv(\"/content/drive/MyDrive/ia/pregunta1_2/test_dataset.csv\", delimiter=\",\")"
      ],
      "metadata": {
        "id": "mbbktnvg7CXM",
        "collapsed": true
      },
      "execution_count": 4,
      "outputs": []
    },
    {
      "cell_type": "code",
      "source": [
        "train_data.info()\n",
        "test_data.info()"
      ],
      "metadata": {
        "colab": {
          "base_uri": "https://localhost:8080/"
        },
        "collapsed": true,
        "id": "vFHKz1c2-Uxp",
        "outputId": "683345c0-9b3a-4901-c81d-b0312710a4b1"
      },
      "execution_count": 5,
      "outputs": [
        {
          "output_type": "stream",
          "name": "stdout",
          "text": [
            "<class 'pandas.core.frame.DataFrame'>\n",
            "RangeIndex: 38984 entries, 0 to 38983\n",
            "Data columns (total 23 columns):\n",
            " #   Column               Non-Null Count  Dtype  \n",
            "---  ------               --------------  -----  \n",
            " 0   age                  38984 non-null  int64  \n",
            " 1   height(cm)           38984 non-null  int64  \n",
            " 2   weight(kg)           38984 non-null  int64  \n",
            " 3   waist(cm)            38984 non-null  float64\n",
            " 4   eyesight(left)       38984 non-null  float64\n",
            " 5   eyesight(right)      38984 non-null  float64\n",
            " 6   hearing(left)        38984 non-null  int64  \n",
            " 7   hearing(right)       38984 non-null  int64  \n",
            " 8   systolic             38984 non-null  int64  \n",
            " 9   relaxation           38984 non-null  int64  \n",
            " 10  fasting blood sugar  38984 non-null  int64  \n",
            " 11  Cholesterol          38984 non-null  int64  \n",
            " 12  triglyceride         38984 non-null  int64  \n",
            " 13  HDL                  38984 non-null  int64  \n",
            " 14  LDL                  38984 non-null  int64  \n",
            " 15  hemoglobin           38984 non-null  float64\n",
            " 16  Urine protein        38984 non-null  int64  \n",
            " 17  serum creatinine     38984 non-null  float64\n",
            " 18  AST                  38984 non-null  int64  \n",
            " 19  ALT                  38984 non-null  int64  \n",
            " 20  Gtp                  38984 non-null  int64  \n",
            " 21  dental caries        38984 non-null  int64  \n",
            " 22  smoking              38984 non-null  int64  \n",
            "dtypes: float64(5), int64(18)\n",
            "memory usage: 6.8 MB\n",
            "<class 'pandas.core.frame.DataFrame'>\n",
            "RangeIndex: 16708 entries, 0 to 16707\n",
            "Data columns (total 22 columns):\n",
            " #   Column               Non-Null Count  Dtype  \n",
            "---  ------               --------------  -----  \n",
            " 0   age                  16708 non-null  int64  \n",
            " 1   height(cm)           16708 non-null  int64  \n",
            " 2   weight(kg)           16708 non-null  int64  \n",
            " 3   waist(cm)            16708 non-null  float64\n",
            " 4   eyesight(left)       16708 non-null  float64\n",
            " 5   eyesight(right)      16708 non-null  float64\n",
            " 6   hearing(left)        16708 non-null  int64  \n",
            " 7   hearing(right)       16708 non-null  int64  \n",
            " 8   systolic             16708 non-null  int64  \n",
            " 9   relaxation           16708 non-null  int64  \n",
            " 10  fasting blood sugar  16708 non-null  int64  \n",
            " 11  Cholesterol          16708 non-null  int64  \n",
            " 12  triglyceride         16708 non-null  int64  \n",
            " 13  HDL                  16708 non-null  int64  \n",
            " 14  LDL                  16708 non-null  int64  \n",
            " 15  hemoglobin           16708 non-null  float64\n",
            " 16  Urine protein        16708 non-null  int64  \n",
            " 17  serum creatinine     16708 non-null  float64\n",
            " 18  AST                  16708 non-null  int64  \n",
            " 19  ALT                  16708 non-null  int64  \n",
            " 20  Gtp                  16708 non-null  int64  \n",
            " 21  dental caries        16708 non-null  int64  \n",
            "dtypes: float64(5), int64(17)\n",
            "memory usage: 2.8 MB\n"
          ]
        }
      ]
    },
    {
      "cell_type": "code",
      "source": [
        "\n",
        "# Paso 3: Normalización de características\n",
        "scaler = StandardScaler()\n",
        "scaled_train_data = scaler.fit_transform(train_data.select_dtypes(include=[np.number]))\n",
        "scaled_test_data = scaler.fit_transform(test_data.select_dtypes(include=[np.number]))\n",
        "\n",
        "scaled_train_data\n",
        "scaled_test_data\n"
      ],
      "metadata": {
        "colab": {
          "base_uri": "https://localhost:8080/"
        },
        "collapsed": true,
        "id": "-ZNd9j9F-yaf",
        "outputId": "4bcbd7fe-73b7-4f2f-f448-ed133a916ef6"
      },
      "execution_count": 6,
      "outputs": [
        {
          "output_type": "execute_result",
          "data": {
            "text/plain": [
              "array([[-0.35669616,  0.59111183, -0.05481357, ..., -0.02597222,\n",
              "        -0.15607634, -0.51681861],\n",
              "       [ 0.05691196,  0.59111183,  0.73639599, ...,  0.04050711,\n",
              "         1.89596878, -0.51681861],\n",
              "       [-1.18391242,  1.67683673,  1.92321032, ...,  0.07374677,\n",
              "        -0.19479417, -0.51681861],\n",
              "       ...,\n",
              "       [-0.35669616, -1.03747551, -1.2416279 , ..., -0.55780682,\n",
              "        -0.50453683, -0.51681861],\n",
              "       [-0.77030429,  0.04824939,  0.34079121, ...,  0.04050711,\n",
              "        -0.19479417,  1.93491486],\n",
              "       [-1.59752055,  1.67683673,  1.13200076, ...,  0.00726745,\n",
              "        -0.33030658, -0.51681861]])"
            ]
          },
          "metadata": {},
          "execution_count": 6
        }
      ]
    },
    {
      "cell_type": "code",
      "source": [
        "from sklearn.cluster import KMeans\n",
        "\n",
        "# Definir el número de clusters deseado\n",
        "num_clusters = 2  # Puedes ajustar este valor según tu conocimiento del problema o mediante técnicas como la \"elbow method\"\n",
        "\n",
        "# Inicializar el modelo K-Means\n",
        "kmeans = KMeans(n_clusters=num_clusters, random_state=42, n_init=10)\n",
        "\n",
        "# Aplicar K-Means a los datos de entrenamiento normalizados\n",
        "kmeans.fit(scaled_train_data)\n",
        "\n",
        "# Obtener las etiquetas de los clusters para los datos de entrenamiento\n",
        "train_cluster_labels = kmeans.labels_\n",
        "\n",
        "# También puedes predecir los clusters para los datos de prueba si es necesario\n",
        "# test_cluster_labels = kmeans.predict(scaled_test_data)\n",
        "\n",
        "# Verificar los resultados\n",
        "print(\"Etiquetas de cluster para los datos de entrenamiento:\")\n",
        "print(train_cluster_labels)\n",
        "\n",
        "# print(\"\\nEtiquetas de cluster para los datos de prueba:\")\n",
        "# print(test_cluster_labels)\n",
        "\n",
        "# Obtener los centroides de los clusters\n",
        "centroids = kmeans.cluster_centers_\n",
        "\n",
        "# Verificar los centroides\n",
        "print(\"\\nCentroides de los clusters:\")\n",
        "print(centroids)\n"
      ],
      "metadata": {
        "colab": {
          "base_uri": "https://localhost:8080/"
        },
        "collapsed": true,
        "id": "IRmn8KpS_a2x",
        "outputId": "d0c19a51-6bf5-48cf-fa46-650866e4152a"
      },
      "execution_count": 7,
      "outputs": [
        {
          "output_type": "stream",
          "name": "stdout",
          "text": [
            "Etiquetas de cluster para los datos de entrenamiento:\n",
            "[0 0 0 ... 0 1 1]\n",
            "\n",
            "Centroides de los clusters:\n",
            "[[-3.27985120e-01  6.27189422e-01  6.19544484e-01  4.90600831e-01\n",
            "   1.42961487e-01  1.53194889e-01 -7.07288262e-02 -7.59509071e-02\n",
            "   2.20945964e-01  2.49831888e-01  1.21812282e-01 -7.02738795e-04\n",
            "   3.30429472e-01 -3.41088692e-01  1.01378624e-02  5.91434107e-01\n",
            "   2.94859691e-02  3.98674286e-01  1.22499410e-01  2.04803160e-01\n",
            "   2.57013879e-01  1.00944302e-01  4.48243337e-01]\n",
            " [ 3.99452549e-01 -7.63852988e-01 -7.54542230e-01 -5.97501963e-01\n",
            "  -1.74112565e-01 -1.86575809e-01  8.61405236e-02  9.25004874e-02\n",
            "  -2.69089734e-01 -3.04269854e-01 -1.48354983e-01  8.55864447e-04\n",
            "  -4.02429522e-01  4.15411368e-01 -1.23468863e-02 -7.20306647e-01\n",
            "  -3.59109143e-02 -4.85544771e-01 -1.49191835e-01 -2.49429439e-01\n",
            "  -3.13016789e-01 -1.22939903e-01 -5.45914838e-01]]\n"
          ]
        }
      ]
    },
    {
      "cell_type": "code",
      "source": [
        "\n",
        "# Seleccionar muestras del conjunto de datos preprocesado y normalizado\n",
        "X_samples = scaled_train_data[np.random.choice(scaled_train_data.shape[0], 4, replace=False)]\n",
        "\n",
        "# Imprimir las muestras seleccionadas\n",
        "print(\"Muestras seleccionadas:\")\n",
        "print(X_samples)\n",
        "\n",
        "# Utilizar el modelo KMeans para predecir el cluster de las nuevas muestras\n",
        "y_pred = kmeans.predict(X_samples)\n",
        "print(\"\\nPredicciones de cluster para las nuevas muestras:\")\n",
        "print(y_pred)\n"
      ],
      "metadata": {
        "colab": {
          "base_uri": "https://localhost:8080/"
        },
        "id": "nOgDkI8kEQYQ",
        "outputId": "95443f51-1ce6-4af0-f961-594ab3a1e28e"
      },
      "execution_count": 8,
      "outputs": [
        {
          "output_type": "stream",
          "name": "stdout",
          "text": [
            "Muestras seleccionadas:\n",
            "[[ 0.90127169 -0.51042661 -0.84819836 -0.97163373 -0.02999845 -0.22026386\n",
            "  -0.16133735 -0.16399576 -0.18145336 -1.44890491 -0.59790639  0.14074332\n",
            "  -0.8182123   2.44272445 -0.46828991 -0.14316165 -0.21517609 -2.2030331\n",
            "  -0.32323975 -0.45178518 -0.48105245 -0.52244324 -0.7618892 ]\n",
            " [-0.34215791  1.66647036 -0.0727891  -0.60708808  0.3711884   0.99478728\n",
            "  -0.16133735 -0.16399576 -0.10815756 -0.41355928 -0.16191219 -0.43691804\n",
            "  -0.77643087  1.00610353 -0.46828991 -0.14316165 -0.21517609  0.9698629\n",
            "   0.30256371 -0.13239375 -0.17920031 -0.52244324  1.31252681]\n",
            " [ 2.55917782 -1.5988751  -1.235903   -0.32831788  0.3711884  -1.63782353\n",
            "   6.19819276  6.09771878  0.47820885 -0.31002472  1.14607039 -0.95956404\n",
            "  -1.08282807 -0.8409805  -0.18845621 -1.03686948 -0.21517609  0.06332119\n",
            "  -0.16678889 -0.26015032 -0.46092897 -0.52244324 -0.7618892 ]\n",
            " [-0.34215791  0.03379763 -0.84819836 -0.42481525 -0.02999845 -0.22026386\n",
            "  -0.16133735 -0.16399576 -0.91441137 -0.62062841 -0.01658079 -0.98707173\n",
            "  -0.95748376  1.41656665 -1.05127676 -0.78152439 -0.21517609 -1.29649138\n",
            "  -0.1146386  -0.41984604 -0.58166982 -0.52244324 -0.7618892 ]]\n",
            "\n",
            "Predicciones de cluster para las nuevas muestras:\n",
            "[1 0 1 1]\n"
          ]
        }
      ]
    },
    {
      "cell_type": "markdown",
      "source": [
        "<h1> CALCULAMOS EL VALOR OPTIMO DE CLOUSTERS USANDO EL METODO DEL CODO Y EL METODO DE LA SILUETA</h1>"
      ],
      "metadata": {
        "id": "vU9hI-iKLo44"
      }
    },
    {
      "cell_type": "code",
      "source": [
        "#METODO DEL CODO\n",
        "\n",
        "# Tomar solo las características numéricas\n",
        "none_y = scaled_train_data[:, :-1]\n",
        "\n",
        "# Inicializar una lista para almacenar las inercias\n",
        "inertias = []\n",
        "\n",
        "# Rango de clusters a probar\n",
        "k_range = range(1, 20)  # Prueba con un rango de 1 a 20 clusters\n",
        "\n",
        "# Calcular la inercia para cada número de clusters en el rango especificado\n",
        "for k in k_range:\n",
        "    kmeans = KMeans(n_clusters=k, random_state=42, n_init=10)\n",
        "    kmeans.fit(none_y)\n",
        "    inertias.append(kmeans.inertia_)\n",
        "\n",
        "# Graficar la curva de inercia\n",
        "plt.plot(k_range, inertias, 'bo-')\n",
        "plt.xlabel('Número de Clusters')\n",
        "plt.ylabel('Inercia')\n",
        "plt.title('Método del Codo')\n",
        "plt.show()\n",
        "\n",
        "# Encontrar el mejor número de clusters utilizando el método del codo\n",
        "best_codo_index = np.argmin(inertias)\n",
        "best_num_clusters_codo = best_codo_index + 1  # Sumamos 1 ya que comenzamos desde 1 cluster\n"
      ],
      "metadata": {
        "colab": {
          "base_uri": "https://localhost:8080/",
          "height": 472
        },
        "id": "x8aXl97fAJc2",
        "outputId": "69e17e20-e926-4379-ff93-8d2c415603f7"
      },
      "execution_count": 9,
      "outputs": [
        {
          "output_type": "display_data",
          "data": {
            "text/plain": [
              "<Figure size 640x480 with 1 Axes>"
            ],
            "image/png": "[encoded data removed]"
          },
          "metadata": {}
        }
      ]
    },
    {
      "cell_type": "code",
      "source": [
        "#METODO DE LA SILUETA\n",
        "\n",
        "# Inicializar una lista para almacenar las puntuaciones de silueta\n",
        "silhouette_scores = []\n",
        "\n",
        "# Rango de clusters a probar\n",
        "k_range = range(2, 11)  # Prueba con un rango de 2 a 10 clusters\n",
        "\n",
        "# Calcular la puntuación de silueta para cada número de clusters en el rango especificado\n",
        "for k in k_range:\n",
        "    kmeans = KMeans(n_clusters=k, random_state=42, n_init=10)\n",
        "    cluster_labels = kmeans.fit_predict(none_y)\n",
        "    silhouette_avg = silhouette_score(none_y, cluster_labels)\n",
        "    silhouette_scores.append(silhouette_avg)\n",
        "\n",
        "# Graficar la curva de silueta\n",
        "plt.plot(k_range, silhouette_scores, 'bo-')\n",
        "plt.xlabel('Número de Clusters')\n",
        "plt.ylabel('Puntuación de Silueta')\n",
        "plt.title('Método de la Silueta')\n",
        "plt.show()\n",
        "\n",
        "# Encontrar el mejor número de clusters utilizando la puntuación de silueta\n",
        "best_silhouette_index = np.argmax(silhouette_scores)\n",
        "best_num_clusters = best_silhouette_index + 2  # Sumamos 2 ya que comenzamos desde 2 clusters\n",
        "\n",
        "print(\"El número óptimo de clusters según la puntuación de silueta es:\", best_num_clusters)\n"
      ],
      "metadata": {
        "colab": {
          "base_uri": "https://localhost:8080/",
          "height": 489
        },
        "id": "Si4CsVmjAjsh",
        "outputId": "8b1aa63f-59d4-4700-a43f-051ec67d0621"
      },
      "execution_count": 10,
      "outputs": [
        {
          "output_type": "display_data",
          "data": {
            "text/plain": [
              "<Figure size 640x480 with 1 Axes>"
            ],
            "image/png": "[encoded data removed]"
          },
          "metadata": {}
        },
        {
          "output_type": "stream",
          "name": "stdout",
          "text": [
            "El número óptimo de clusters según la puntuación de silueta es: 3\n"
          ]
        }
      ]
    },
    {
      "cell_type": "code",
      "source": [
        "# Imprimir la cantidad de ejemplos en cada conjunto\n",
        "print('-' * 80)\n",
        "print(f\"El 80% de ejemplos que serán para el entrenamiento son: {len(scaled_train_data)}\")\n",
        "print(f\"El 20% de ejemplos que serán para el prueba son: {len(scaled_test_data)}\")\n"
      ],
      "metadata": {
        "colab": {
          "base_uri": "https://localhost:8080/"
        },
        "id": "oOyAhGtxMnd0",
        "outputId": "ce302bbc-f3cc-43a4-b1e9-a35adb463163"
      },
      "execution_count": 11,
      "outputs": [
        {
          "output_type": "stream",
          "name": "stdout",
          "text": [
            "--------------------------------------------------------------------------------\n",
            "El 80% de ejemplos que serán para el entrenamiento son: 38984\n",
            "El 20% de ejemplos que serán para el prueba son: 16708\n"
          ]
        }
      ]
    },
    {
      "cell_type": "markdown",
      "source": [
        "## **eliminamos la y**"
      ],
      "metadata": {
        "id": "2ePpVA4SW4p4"
      }
    },
    {
      "cell_type": "code",
      "source": [
        "none_y"
      ],
      "metadata": {
        "colab": {
          "base_uri": "https://localhost:8080/"
        },
        "id": "iUbqhwTlW2Nw",
        "outputId": "cb59bae3-24f9-433d-e6ee-1be34be47b70"
      },
      "execution_count": 12,
      "outputs": [
        {
          "output_type": "execute_result",
          "data": {
            "text/plain": [
              "array([[-0.75663444,  0.57802188,  1.47802943, ...,  2.80600746,\n",
              "         1.71240639,  1.91408353],\n",
              "       [-2.00006404,  1.12224612,  3.4165526 , ..., -0.06851546,\n",
              "        -0.19932379,  1.91408353],\n",
              "       [ 0.07231863, -1.05465085, -0.0727891 , ..., 43.84780685,\n",
              "         4.7510512 , -0.52244324],\n",
              "       ...,\n",
              "       [-0.34215791,  0.57802188,  3.02884797, ..., -0.13239375,\n",
              "        -0.09870641,  1.91408353],\n",
              "       [-0.34215791, -0.51042661, -0.84819836, ..., -0.22821118,\n",
              "        -0.46092897, -0.52244324],\n",
              "       [ 0.90127169,  1.12224612, -0.46049373, ..., -0.48372433,\n",
              "        -0.48105245, -0.52244324]])"
            ]
          },
          "metadata": {},
          "execution_count": 12
        }
      ]
    },
    {
      "cell_type": "code",
      "source": [
        "scaled_train_data"
      ],
      "metadata": {
        "colab": {
          "base_uri": "https://localhost:8080/"
        },
        "id": "enZOel2BMz2J",
        "outputId": "c2c3a1c4-c0f8-40fa-855d-ad7c76583373"
      },
      "execution_count": 13,
      "outputs": [
        {
          "output_type": "execute_result",
          "data": {
            "text/plain": [
              "array([[-0.75663444,  0.57802188,  1.47802943, ...,  1.71240639,\n",
              "         1.91408353,  1.31252681],\n",
              "       [-2.00006404,  1.12224612,  3.4165526 , ..., -0.19932379,\n",
              "         1.91408353, -0.7618892 ],\n",
              "       [ 0.07231863, -1.05465085, -0.0727891 , ...,  4.7510512 ,\n",
              "        -0.52244324, -0.7618892 ],\n",
              "       ...,\n",
              "       [-0.34215791,  0.57802188,  3.02884797, ..., -0.09870641,\n",
              "         1.91408353,  1.31252681],\n",
              "       [-0.34215791, -0.51042661, -0.84819836, ..., -0.46092897,\n",
              "        -0.52244324,  1.31252681],\n",
              "       [ 0.90127169,  1.12224612, -0.46049373, ..., -0.48105245,\n",
              "        -0.52244324,  1.31252681]])"
            ]
          },
          "metadata": {},
          "execution_count": 13
        }
      ]
    },
    {
      "cell_type": "code",
      "source": [
        "# KMeans clustering on training data\n",
        "kmeans = KMeans(n_clusters=best_num_clusters, n_init=10, random_state=42)\n",
        "kmeans.fit(scaled_train_data)\n",
        "train_data['kmeans3'] = kmeans.labels_\n",
        "\n",
        "# Este método ajusta el modelo K-Means utilizando el conjunto de datos X_train y\n",
        "# Transformamos los datos de entrenamiento en distancias euclidianas a los centroides\n",
        "X_digits_dist = kmeans.transform(scaled_train_data)\n"
      ],
      "metadata": {
        "id": "nSww4ZrXBfVR"
      },
      "execution_count": 14,
      "outputs": []
    },
    {
      "cell_type": "code",
      "source": [
        "# Mostramos el número de ejemplos en cada grupo.\n",
        "print(X_digits_dist.shape)\n",
        "print(X_digits_dist)"
      ],
      "metadata": {
        "colab": {
          "base_uri": "https://localhost:8080/"
        },
        "id": "07HdGx7iC7-f",
        "outputId": "c2316a8a-8318-4817-f82e-25d40c872300"
      },
      "execution_count": 15,
      "outputs": [
        {
          "output_type": "stream",
          "name": "stdout",
          "text": [
            "(38984, 3)\n",
            "[[ 9.14464343  7.62234528  5.39543897]\n",
            " [ 9.00690145  7.05196007  5.09849126]\n",
            " [71.31528961 71.36650901 70.88298662]\n",
            " ...\n",
            " [ 9.29187947  8.15418291  5.81771365]\n",
            " [ 7.69007261  3.59339983  5.23728173]\n",
            " [ 6.89347186  3.27429385  3.54704422]]\n"
          ]
        }
      ]
    },
    {
      "cell_type": "markdown",
      "source": [
        "#Vemos la precision de los **clusters**"
      ],
      "metadata": {
        "id": "NpEPtJnrcvTf"
      }
    },
    {
      "cell_type": "code",
      "source": [
        "from sklearn.metrics import silhouette_score\n",
        "kmeans = KMeans(n_clusters=80, random_state=42, n_init=10)\n",
        "y_pred = kmeans.fit_predict(train_data)\n",
        "silhouette_avg = silhouette_score(train_data, y_pred) # Calculamos el score de silueta del modelo\n",
        "print(\"Silhouette Score:\", silhouette_avg)"
      ],
      "metadata": {
        "colab": {
          "base_uri": "https://localhost:8080/"
        },
        "id": "JRQVo33vTet0",
        "outputId": "2629f890-5fb2-4427-c015-1949d45ff57a"
      },
      "execution_count": 16,
      "outputs": [
        {
          "output_type": "stream",
          "name": "stdout",
          "text": [
            "Silhouette Score: 0.0951971515745616\n"
          ]
        }
      ]
    }
  ]
}