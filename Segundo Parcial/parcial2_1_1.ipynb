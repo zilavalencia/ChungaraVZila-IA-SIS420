{
  "nbformat": 4,
  "nbformat_minor": 0,
  "metadata": {
    "colab": {
      "provenance": [],
      "gpuType": "T4",
      "include_colab_link": true
    },
    "kernelspec": {
      "name": "python3",
      "display_name": "Python 3"
    },
    "language_info": {
      "name": "python"
    },
    "accelerator": "GPU"
  },
  "cells": [
    {
      "cell_type": "markdown",
      "metadata": {
        "id": "view-in-github",
        "colab_type": "text"
      },
      "source": [
        "<a href=\"https://colab.research.google.com/github/zilavalencia/ChungaraVZila-IA-SIS420/blob/main/Segundo%20Parcial/parcial2_1_1.ipynb\" target=\"_parent\"><img src=\"https://colab.research.google.com/assets/colab-badge.svg\" alt=\"Open In Colab\"/></a>"
      ]
    },
    {
      "cell_type": "markdown",
      "source": [
        "# Segundo Parcial\n",
        "\n",
        "---\n",
        "\n",
        "Chungara Valencia Zila\n",
        "\n",
        "Inenieria de Sistemas"
      ],
      "metadata": {
        "id": "QpgJIPX5BddF"
      }
    },
    {
      "cell_type": "markdown",
      "source": [
        "## Venta de casas en el condado de King, EE. UU.\n",
        "## Predecir el precio de la vivienda\n",
        "\n",
        "Este conjunto de datos contiene precios de venta de viviendas para el condado de King, que incluye Seattle. Incluye viviendas vendidas entre mayo de 2014 y mayo de 2015."
      ],
      "metadata": {
        "id": "8C_EUt4-BvNg"
      }
    },
    {
      "cell_type": "code",
      "execution_count": null,
      "metadata": {
        "id": "KdwDsvgB67H3"
      },
      "outputs": [],
      "source": [
        "# Importing necessary libraries\n",
        "from matplotlib import pyplot as plt\n",
        "import os\n",
        "import numpy as np\n",
        "import pandas as pd\n",
        "from scipy import optimize\n",
        "from sklearn.model_selection import train_test_split\n",
        "from imblearn.over_sampling import SMOTE\n",
        "from sklearn.utils import shuffle\n",
        "from sklearn.preprocessing import LabelEncoder, StandardScaler\n",
        "from google.colab import drive\n",
        "from sklearn.cluster import KMeans\n",
        "from sklearn.metrics import silhouette_score, accuracy_score, confusion_matrix\n",
        "from sklearn.linear_model import LogisticRegression\n",
        "import seaborn as sns\n",
        "from sklearn.metrics import silhouette_score"
      ]
    },
    {
      "cell_type": "code",
      "source": [
        "# Mount Google Drive\n",
        "drive.mount('/content/drive')"
      ],
      "metadata": {
        "colab": {
          "base_uri": "https://localhost:8080/"
        },
        "id": "UvtMGchH7Ae8",
        "outputId": "b3d746d0-8adf-4c4c-e256-05c74057721e"
      },
      "execution_count": null,
      "outputs": [
        {
          "output_type": "stream",
          "name": "stdout",
          "text": [
            "Mounted at /content/drive\n"
          ]
        }
      ]
    },
    {
      "cell_type": "markdown",
      "source": [
        "# Leemos el dataset"
      ],
      "metadata": {
        "id": "h9Y1XuKDCrjH"
      }
    },
    {
      "cell_type": "code",
      "source": [
        "# Configurar Pandas para que no corte la visualización\n",
        "pd.set_option('display.max_rows', 50)\n",
        "pd.set_option('display.max_columns', None)\n",
        "\n",
        "data = pd.read_csv('/content/drive/MyDrive/ia/pregunta1_1/kc_house_data.csv', delimiter=\",\")\n",
        "\n",
        "data"
      ],
      "metadata": {
        "colab": {
          "base_uri": "https://localhost:8080/",
          "height": 444
        },
        "id": "mbbktnvg7CXM",
        "outputId": "af983fa5-2c90-4658-b392-281d8ba4a7e5"
      },
      "execution_count": null,
      "outputs": [
        {
          "output_type": "execute_result",
          "data": {
            "text/plain": [
              "               id             date     price  bedrooms  bathrooms  \\\n",
              "0      7129300520  20141013T000000  221900.0         3       1.00   \n",
              "1      6414100192  20141209T000000  538000.0         3       2.25   \n",
              "2      5631500400  20150225T000000  180000.0         2       1.00   \n",
              "3      2487200875  20141209T000000  604000.0         4       3.00   \n",
              "4      1954400510  20150218T000000  510000.0         3       2.00   \n",
              "...           ...              ...       ...       ...        ...   \n",
              "21608   263000018  20140521T000000  360000.0         3       2.50   \n",
              "21609  6600060120  20150223T000000  400000.0         4       2.50   \n",
              "21610  1523300141  20140623T000000  402101.0         2       0.75   \n",
              "21611   291310100  20150116T000000  400000.0         3       2.50   \n",
              "21612  1523300157  20141015T000000  325000.0         2       0.75   \n",
              "\n",
              "       sqft_living  sqft_lot  floors  waterfront  view  condition  grade  \\\n",
              "0             1180      5650     1.0           0     0          3      7   \n",
              "1             2570      7242     2.0           0     0          3      7   \n",
              "2              770     10000     1.0           0     0          3      6   \n",
              "3             1960      5000     1.0           0     0          5      7   \n",
              "4             1680      8080     1.0           0     0          3      8   \n",
              "...            ...       ...     ...         ...   ...        ...    ...   \n",
              "21608         1530      1131     3.0           0     0          3      8   \n",
              "21609         2310      5813     2.0           0     0          3      8   \n",
              "21610         1020      1350     2.0           0     0          3      7   \n",
              "21611         1600      2388     2.0           0     0          3      8   \n",
              "21612         1020      1076     2.0           0     0          3      7   \n",
              "\n",
              "       sqft_above  sqft_basement  yr_built  yr_renovated  zipcode      lat  \\\n",
              "0            1180              0      1955             0    98178  47.5112   \n",
              "1            2170            400      1951          1991    98125  47.7210   \n",
              "2             770              0      1933             0    98028  47.7379   \n",
              "3            1050            910      1965             0    98136  47.5208   \n",
              "4            1680              0      1987             0    98074  47.6168   \n",
              "...           ...            ...       ...           ...      ...      ...   \n",
              "21608        1530              0      2009             0    98103  47.6993   \n",
              "21609        2310              0      2014             0    98146  47.5107   \n",
              "21610        1020              0      2009             0    98144  47.5944   \n",
              "21611        1600              0      2004             0    98027  47.5345   \n",
              "21612        1020              0      2008             0    98144  47.5941   \n",
              "\n",
              "          long  sqft_living15  sqft_lot15  \n",
              "0     -122.257           1340        5650  \n",
              "1     -122.319           1690        7639  \n",
              "2     -122.233           2720        8062  \n",
              "3     -122.393           1360        5000  \n",
              "4     -122.045           1800        7503  \n",
              "...        ...            ...         ...  \n",
              "21608 -122.346           1530        1509  \n",
              "21609 -122.362           1830        7200  \n",
              "21610 -122.299           1020        2007  \n",
              "21611 -122.069           1410        1287  \n",
              "21612 -122.299           1020        1357  \n",
              "\n",
              "[21613 rows x 21 columns]"
            ],
            "text/html": [
              "\n",
              "  <div id=\"df-1ac64ea6-f0a9-449a-8025-725c8b752a71\" class=\"colab-df-container\">\n",
              "    <div>\n",
              "<style scoped>\n",
              "    .dataframe tbody tr th:only-of-type {\n",
              "        vertical-align: middle;\n",
              "    }\n",
              "\n",
              "    .dataframe tbody tr th {\n",
              "        vertical-align: top;\n",
              "    }\n",
              "\n",
              "    .dataframe thead th {\n",
              "        text-align: right;\n",
              "    }\n",
              "</style>\n",
              "<table border=\"1\" class=\"dataframe\">\n",
              "  <thead>\n",
              "    <tr style=\"text-align: right;\">\n",
              "      <th></th>\n",
              "      <th>id</th>\n",
              "      <th>date</th>\n",
              "      <th>price</th>\n",
              "      <th>bedrooms</th>\n",
              "      <th>bathrooms</th>\n",
              "      <th>sqft_living</th>\n",
              "      <th>sqft_lot</th>\n",
              "      <th>floors</th>\n",
              "      <th>waterfront</th>\n",
              "      <th>view</th>\n",
              "      <th>condition</th>\n",
              "      <th>grade</th>\n",
              "      <th>sqft_above</th>\n",
              "      <th>sqft_basement</th>\n",
              "      <th>yr_built</th>\n",
              "      <th>yr_renovated</th>\n",
              "      <th>zipcode</th>\n",
              "      <th>lat</th>\n",
              "      <th>long</th>\n",
              "      <th>sqft_living15</th>\n",
              "      <th>sqft_lot15</th>\n",
              "    </tr>\n",
              "  </thead>\n",
              "  <tbody>\n",
              "    <tr>\n",
              "      <th>0</th>\n",
              "      <td>7129300520</td>\n",
              "      <td>20141013T000000</td>\n",
              "      <td>221900.0</td>\n",
              "      <td>3</td>\n",
              "      <td>1.00</td>\n",
              "      <td>1180</td>\n",
              "      <td>5650</td>\n",
              "      <td>1.0</td>\n",
              "      <td>0</td>\n",
              "      <td>0</td>\n",
              "      <td>3</td>\n",
              "      <td>7</td>\n",
              "      <td>1180</td>\n",
              "      <td>0</td>\n",
              "      <td>1955</td>\n",
              "      <td>0</td>\n",
              "      <td>98178</td>\n",
              "      <td>47.5112</td>\n",
              "      <td>-122.257</td>\n",
              "      <td>1340</td>\n",
              "      <td>5650</td>\n",
              "    </tr>\n",
              "    <tr>\n",
              "      <th>1</th>\n",
              "      <td>6414100192</td>\n",
              "      <td>20141209T000000</td>\n",
              "      <td>538000.0</td>\n",
              "      <td>3</td>\n",
              "      <td>2.25</td>\n",
              "      <td>2570</td>\n",
              "      <td>7242</td>\n",
              "      <td>2.0</td>\n",
              "      <td>0</td>\n",
              "      <td>0</td>\n",
              "      <td>3</td>\n",
              "      <td>7</td>\n",
              "      <td>2170</td>\n",
              "      <td>400</td>\n",
              "      <td>1951</td>\n",
              "      <td>1991</td>\n",
              "      <td>98125</td>\n",
              "      <td>47.7210</td>\n",
              "      <td>-122.319</td>\n",
              "      <td>1690</td>\n",
              "      <td>7639</td>\n",
              "    </tr>\n",
              "    <tr>\n",
              "      <th>2</th>\n",
              "      <td>5631500400</td>\n",
              "      <td>20150225T000000</td>\n",
              "      <td>180000.0</td>\n",
              "      <td>2</td>\n",
              "      <td>1.00</td>\n",
              "      <td>770</td>\n",
              "      <td>10000</td>\n",
              "      <td>1.0</td>\n",
              "      <td>0</td>\n",
              "      <td>0</td>\n",
              "      <td>3</td>\n",
              "      <td>6</td>\n",
              "      <td>770</td>\n",
              "      <td>0</td>\n",
              "      <td>1933</td>\n",
              "      <td>0</td>\n",
              "      <td>98028</td>\n",
              "      <td>47.7379</td>\n",
              "      <td>-122.233</td>\n",
              "      <td>2720</td>\n",
              "      <td>8062</td>\n",
              "    </tr>\n",
              "    <tr>\n",
              "      <th>3</th>\n",
              "      <td>2487200875</td>\n",
              "      <td>20141209T000000</td>\n",
              "      <td>604000.0</td>\n",
              "      <td>4</td>\n",
              "      <td>3.00</td>\n",
              "      <td>1960</td>\n",
              "      <td>5000</td>\n",
              "      <td>1.0</td>\n",
              "      <td>0</td>\n",
              "      <td>0</td>\n",
              "      <td>5</td>\n",
              "      <td>7</td>\n",
              "      <td>1050</td>\n",
              "      <td>910</td>\n",
              "      <td>1965</td>\n",
              "      <td>0</td>\n",
              "      <td>98136</td>\n",
              "      <td>47.5208</td>\n",
              "      <td>-122.393</td>\n",
              "      <td>1360</td>\n",
              "      <td>5000</td>\n",
              "    </tr>\n",
              "    <tr>\n",
              "      <th>4</th>\n",
              "      <td>1954400510</td>\n",
              "      <td>20150218T000000</td>\n",
              "      <td>510000.0</td>\n",
              "      <td>3</td>\n",
              "      <td>2.00</td>\n",
              "      <td>1680</td>\n",
              "      <td>8080</td>\n",
              "      <td>1.0</td>\n",
              "      <td>0</td>\n",
              "      <td>0</td>\n",
              "      <td>3</td>\n",
              "      <td>8</td>\n",
              "      <td>1680</td>\n",
              "      <td>0</td>\n",
              "      <td>1987</td>\n",
              "      <td>0</td>\n",
              "      <td>98074</td>\n",
              "      <td>47.6168</td>\n",
              "      <td>-122.045</td>\n",
              "      <td>1800</td>\n",
              "      <td>7503</td>\n",
              "    </tr>\n",
              "    <tr>\n",
              "      <th>...</th>\n",
              "      <td>...</td>\n",
              "      <td>...</td>\n",
              "      <td>...</td>\n",
              "      <td>...</td>\n",
              "      <td>...</td>\n",
              "      <td>...</td>\n",
              "      <td>...</td>\n",
              "      <td>...</td>\n",
              "      <td>...</td>\n",
              "      <td>...</td>\n",
              "      <td>...</td>\n",
              "      <td>...</td>\n",
              "      <td>...</td>\n",
              "      <td>...</td>\n",
              "      <td>...</td>\n",
              "      <td>...</td>\n",
              "      <td>...</td>\n",
              "      <td>...</td>\n",
              "      <td>...</td>\n",
              "      <td>...</td>\n",
              "      <td>...</td>\n",
              "    </tr>\n",
              "    <tr>\n",
              "      <th>21608</th>\n",
              "      <td>263000018</td>\n",
              "      <td>20140521T000000</td>\n",
              "      <td>360000.0</td>\n",
              "      <td>3</td>\n",
              "      <td>2.50</td>\n",
              "      <td>1530</td>\n",
              "      <td>1131</td>\n",
              "      <td>3.0</td>\n",
              "      <td>0</td>\n",
              "      <td>0</td>\n",
              "      <td>3</td>\n",
              "      <td>8</td>\n",
              "      <td>1530</td>\n",
              "      <td>0</td>\n",
              "      <td>2009</td>\n",
              "      <td>0</td>\n",
              "      <td>98103</td>\n",
              "      <td>47.6993</td>\n",
              "      <td>-122.346</td>\n",
              "      <td>1530</td>\n",
              "      <td>1509</td>\n",
              "    </tr>\n",
              "    <tr>\n",
              "      <th>21609</th>\n",
              "      <td>6600060120</td>\n",
              "      <td>20150223T000000</td>\n",
              "      <td>400000.0</td>\n",
              "      <td>4</td>\n",
              "      <td>2.50</td>\n",
              "      <td>2310</td>\n",
              "      <td>5813</td>\n",
              "      <td>2.0</td>\n",
              "      <td>0</td>\n",
              "      <td>0</td>\n",
              "      <td>3</td>\n",
              "      <td>8</td>\n",
              "      <td>2310</td>\n",
              "      <td>0</td>\n",
              "      <td>2014</td>\n",
              "      <td>0</td>\n",
              "      <td>98146</td>\n",
              "      <td>47.5107</td>\n",
              "      <td>-122.362</td>\n",
              "      <td>1830</td>\n",
              "      <td>7200</td>\n",
              "    </tr>\n",
              "    <tr>\n",
              "      <th>21610</th>\n",
              "      <td>1523300141</td>\n",
              "      <td>20140623T000000</td>\n",
              "      <td>402101.0</td>\n",
              "      <td>2</td>\n",
              "      <td>0.75</td>\n",
              "      <td>1020</td>\n",
              "      <td>1350</td>\n",
              "      <td>2.0</td>\n",
              "      <td>0</td>\n",
              "      <td>0</td>\n",
              "      <td>3</td>\n",
              "      <td>7</td>\n",
              "      <td>1020</td>\n",
              "      <td>0</td>\n",
              "      <td>2009</td>\n",
              "      <td>0</td>\n",
              "      <td>98144</td>\n",
              "      <td>47.5944</td>\n",
              "      <td>-122.299</td>\n",
              "      <td>1020</td>\n",
              "      <td>2007</td>\n",
              "    </tr>\n",
              "    <tr>\n",
              "      <th>21611</th>\n",
              "      <td>291310100</td>\n",
              "      <td>20150116T000000</td>\n",
              "      <td>400000.0</td>\n",
              "      <td>3</td>\n",
              "      <td>2.50</td>\n",
              "      <td>1600</td>\n",
              "      <td>2388</td>\n",
              "      <td>2.0</td>\n",
              "      <td>0</td>\n",
              "      <td>0</td>\n",
              "      <td>3</td>\n",
              "      <td>8</td>\n",
              "      <td>1600</td>\n",
              "      <td>0</td>\n",
              "      <td>2004</td>\n",
              "      <td>0</td>\n",
              "      <td>98027</td>\n",
              "      <td>47.5345</td>\n",
              "      <td>-122.069</td>\n",
              "      <td>1410</td>\n",
              "      <td>1287</td>\n",
              "    </tr>\n",
              "    <tr>\n",
              "      <th>21612</th>\n",
              "      <td>1523300157</td>\n",
              "      <td>20141015T000000</td>\n",
              "      <td>325000.0</td>\n",
              "      <td>2</td>\n",
              "      <td>0.75</td>\n",
              "      <td>1020</td>\n",
              "      <td>1076</td>\n",
              "      <td>2.0</td>\n",
              "      <td>0</td>\n",
              "      <td>0</td>\n",
              "      <td>3</td>\n",
              "      <td>7</td>\n",
              "      <td>1020</td>\n",
              "      <td>0</td>\n",
              "      <td>2008</td>\n",
              "      <td>0</td>\n",
              "      <td>98144</td>\n",
              "      <td>47.5941</td>\n",
              "      <td>-122.299</td>\n",
              "      <td>1020</td>\n",
              "      <td>1357</td>\n",
              "    </tr>\n",
              "  </tbody>\n",
              "</table>\n",
              "<p>21613 rows × 21 columns</p>\n",
              "</div>\n",
              "    <div class=\"colab-df-buttons\">\n",
              "\n",
              "  <div class=\"colab-df-container\">\n",
              "    <button class=\"colab-df-convert\" onclick=\"convertToInteractive('df-1ac64ea6-f0a9-449a-8025-725c8b752a71')\"\n",
              "            title=\"Convert this dataframe to an interactive table.\"\n",
              "            style=\"display:none;\">\n",
              "\n",
              "  <svg xmlns=\"http://www.w3.org/2000/svg\" height=\"24px\" viewBox=\"0 -960 960 960\">\n",
              "    <path d=\"M120-120v-720h720v720H120Zm60-500h600v-160H180v160Zm220 220h160v-160H400v160Zm0 220h160v-160H400v160ZM180-400h160v-160H180v160Zm440 0h160v-160H620v160ZM180-180h160v-160H180v160Zm440 0h160v-160H620v160Z\"/>\n",
              "  </svg>\n",
              "    </button>\n",
              "\n",
              "  <style>\n",
              "    .colab-df-container {\n",
              "      display:flex;\n",
              "      gap: 12px;\n",
              "    }\n",
              "\n",
              "    .colab-df-convert {\n",
              "      background-color: #E8F0FE;\n",
              "      border: none;\n",
              "      border-radius: 50%;\n",
              "      cursor: pointer;\n",
              "      display: none;\n",
              "      fill: #1967D2;\n",
              "      height: 32px;\n",
              "      padding: 0 0 0 0;\n",
              "      width: 32px;\n",
              "    }\n",
              "\n",
              "    .colab-df-convert:hover {\n",
              "      background-color: #E2EBFA;\n",
              "      box-shadow: 0px 1px 2px rgba(60, 64, 67, 0.3), 0px 1px 3px 1px rgba(60, 64, 67, 0.15);\n",
              "      fill: #174EA6;\n",
              "    }\n",
              "\n",
              "    .colab-df-buttons div {\n",
              "      margin-bottom: 4px;\n",
              "    }\n",
              "\n",
              "    [theme=dark] .colab-df-convert {\n",
              "      background-color: #3B4455;\n",
              "      fill: #D2E3FC;\n",
              "    }\n",
              "\n",
              "    [theme=dark] .colab-df-convert:hover {\n",
              "      background-color: #434B5C;\n",
              "      box-shadow: 0px 1px 3px 1px rgba(0, 0, 0, 0.15);\n",
              "      filter: drop-shadow(0px 1px 2px rgba(0, 0, 0, 0.3));\n",
              "      fill: #FFFFFF;\n",
              "    }\n",
              "  </style>\n",
              "\n",
              "    <script>\n",
              "      const buttonEl =\n",
              "        document.querySelector('#df-1ac64ea6-f0a9-449a-8025-725c8b752a71 button.colab-df-convert');\n",
              "      buttonEl.style.display =\n",
              "        google.colab.kernel.accessAllowed ? 'block' : 'none';\n",
              "\n",
              "      async function convertToInteractive(key) {\n",
              "        const element = document.querySelector('#df-1ac64ea6-f0a9-449a-8025-725c8b752a71');\n",
              "        const dataTable =\n",
              "          await google.colab.kernel.invokeFunction('convertToInteractive',\n",
              "                                                    [key], {});\n",
              "        if (!dataTable) return;\n",
              "\n",
              "        const docLinkHtml = 'Like what you see? Visit the ' +\n",
              "          '<a target=\"_blank\" href=https://colab.research.google.com/notebooks/data_table.ipynb>data table notebook</a>'\n",
              "          + ' to learn more about interactive tables.';\n",
              "        element.innerHTML = '';\n",
              "        dataTable['output_type'] = 'display_data';\n",
              "        await google.colab.output.renderOutput(dataTable, element);\n",
              "        const docLink = document.createElement('div');\n",
              "        docLink.innerHTML = docLinkHtml;\n",
              "        element.appendChild(docLink);\n",
              "      }\n",
              "    </script>\n",
              "  </div>\n",
              "\n",
              "\n",
              "    <div id=\"df-7c56da16-3b98-4eac-a527-f1efed1ecce3\">\n",
              "      <button class=\"colab-df-quickchart\" onclick=\"quickchart('df-7c56da16-3b98-4eac-a527-f1efed1ecce3')\"\n",
              "                title=\"Suggest charts\"\n",
              "                style=\"display:none;\">\n",
              "\n",
              "<svg xmlns=\"http://www.w3.org/2000/svg\" height=\"24px\"viewBox=\"0 0 24 24\"\n",
              "     width=\"24px\">\n",
              "    <g>\n",
              "        <path d=\"M19 3H5c-1.1 0-2 .9-2 2v14c0 1.1.9 2 2 2h14c1.1 0 2-.9 2-2V5c0-1.1-.9-2-2-2zM9 17H7v-7h2v7zm4 0h-2V7h2v10zm4 0h-2v-4h2v4z\"/>\n",
              "    </g>\n",
              "</svg>\n",
              "      </button>\n",
              "\n",
              "<style>\n",
              "  .colab-df-quickchart {\n",
              "      --bg-color: #E8F0FE;\n",
              "      --fill-color: #1967D2;\n",
              "      --hover-bg-color: #E2EBFA;\n",
              "      --hover-fill-color: #174EA6;\n",
              "      --disabled-fill-color: #AAA;\n",
              "      --disabled-bg-color: #DDD;\n",
              "  }\n",
              "\n",
              "  [theme=dark] .colab-df-quickchart {\n",
              "      --bg-color: #3B4455;\n",
              "      --fill-color: #D2E3FC;\n",
              "      --hover-bg-color: #434B5C;\n",
              "      --hover-fill-color: #FFFFFF;\n",
              "      --disabled-bg-color: #3B4455;\n",
              "      --disabled-fill-color: #666;\n",
              "  }\n",
              "\n",
              "  .colab-df-quickchart {\n",
              "    background-color: var(--bg-color);\n",
              "    border: none;\n",
              "    border-radius: 50%;\n",
              "    cursor: pointer;\n",
              "    display: none;\n",
              "    fill: var(--fill-color);\n",
              "    height: 32px;\n",
              "    padding: 0;\n",
              "    width: 32px;\n",
              "  }\n",
              "\n",
              "  .colab-df-quickchart:hover {\n",
              "    background-color: var(--hover-bg-color);\n",
              "    box-shadow: 0 1px 2px rgba(60, 64, 67, 0.3), 0 1px 3px 1px rgba(60, 64, 67, 0.15);\n",
              "    fill: var(--button-hover-fill-color);\n",
              "  }\n",
              "\n",
              "  .colab-df-quickchart-complete:disabled,\n",
              "  .colab-df-quickchart-complete:disabled:hover {\n",
              "    background-color: var(--disabled-bg-color);\n",
              "    fill: var(--disabled-fill-color);\n",
              "    box-shadow: none;\n",
              "  }\n",
              "\n",
              "  .colab-df-spinner {\n",
              "    border: 2px solid var(--fill-color);\n",
              "    border-color: transparent;\n",
              "    border-bottom-color: var(--fill-color);\n",
              "    animation:\n",
              "      spin 1s steps(1) infinite;\n",
              "  }\n",
              "\n",
              "  @keyframes spin {\n",
              "    0% {\n",
              "      border-color: transparent;\n",
              "      border-bottom-color: var(--fill-color);\n",
              "      border-left-color: var(--fill-color);\n",
              "    }\n",
              "    20% {\n",
              "      border-color: transparent;\n",
              "      border-left-color: var(--fill-color);\n",
              "      border-top-color: var(--fill-color);\n",
              "    }\n",
              "    30% {\n",
              "      border-color: transparent;\n",
              "      border-left-color: var(--fill-color);\n",
              "      border-top-color: var(--fill-color);\n",
              "      border-right-color: var(--fill-color);\n",
              "    }\n",
              "    40% {\n",
              "      border-color: transparent;\n",
              "      border-right-color: var(--fill-color);\n",
              "      border-top-color: var(--fill-color);\n",
              "    }\n",
              "    60% {\n",
              "      border-color: transparent;\n",
              "      border-right-color: var(--fill-color);\n",
              "    }\n",
              "    80% {\n",
              "      border-color: transparent;\n",
              "      border-right-color: var(--fill-color);\n",
              "      border-bottom-color: var(--fill-color);\n",
              "    }\n",
              "    90% {\n",
              "      border-color: transparent;\n",
              "      border-bottom-color: var(--fill-color);\n",
              "    }\n",
              "  }\n",
              "</style>\n",
              "\n",
              "      <script>\n",
              "        async function quickchart(key) {\n",
              "          const quickchartButtonEl =\n",
              "            document.querySelector('#' + key + ' button');\n",
              "          quickchartButtonEl.disabled = true;  // To prevent multiple clicks.\n",
              "          quickchartButtonEl.classList.add('colab-df-spinner');\n",
              "          try {\n",
              "            const charts = await google.colab.kernel.invokeFunction(\n",
              "                'suggestCharts', [key], {});\n",
              "          } catch (error) {\n",
              "            console.error('Error during call to suggestCharts:', error);\n",
              "          }\n",
              "          quickchartButtonEl.classList.remove('colab-df-spinner');\n",
              "          quickchartButtonEl.classList.add('colab-df-quickchart-complete');\n",
              "        }\n",
              "        (() => {\n",
              "          let quickchartButtonEl =\n",
              "            document.querySelector('#df-7c56da16-3b98-4eac-a527-f1efed1ecce3 button');\n",
              "          quickchartButtonEl.style.display =\n",
              "            google.colab.kernel.accessAllowed ? 'block' : 'none';\n",
              "        })();\n",
              "      </script>\n",
              "    </div>\n",
              "\n",
              "  <div id=\"id_4435687e-b422-461f-9113-59a932397c3c\">\n",
              "    <style>\n",
              "      .colab-df-generate {\n",
              "        background-color: #E8F0FE;\n",
              "        border: none;\n",
              "        border-radius: 50%;\n",
              "        cursor: pointer;\n",
              "        display: none;\n",
              "        fill: #1967D2;\n",
              "        height: 32px;\n",
              "        padding: 0 0 0 0;\n",
              "        width: 32px;\n",
              "      }\n",
              "\n",
              "      .colab-df-generate:hover {\n",
              "        background-color: #E2EBFA;\n",
              "        box-shadow: 0px 1px 2px rgba(60, 64, 67, 0.3), 0px 1px 3px 1px rgba(60, 64, 67, 0.15);\n",
              "        fill: #174EA6;\n",
              "      }\n",
              "\n",
              "      [theme=dark] .colab-df-generate {\n",
              "        background-color: #3B4455;\n",
              "        fill: #D2E3FC;\n",
              "      }\n",
              "\n",
              "      [theme=dark] .colab-df-generate:hover {\n",
              "        background-color: #434B5C;\n",
              "        box-shadow: 0px 1px 3px 1px rgba(0, 0, 0, 0.15);\n",
              "        filter: drop-shadow(0px 1px 2px rgba(0, 0, 0, 0.3));\n",
              "        fill: #FFFFFF;\n",
              "      }\n",
              "    </style>\n",
              "    <button class=\"colab-df-generate\" onclick=\"generateWithVariable('data')\"\n",
              "            title=\"Generate code using this dataframe.\"\n",
              "            style=\"display:none;\">\n",
              "\n",
              "  <svg xmlns=\"http://www.w3.org/2000/svg\" height=\"24px\"viewBox=\"0 0 24 24\"\n",
              "       width=\"24px\">\n",
              "    <path d=\"M7,19H8.4L18.45,9,17,7.55,7,17.6ZM5,21V16.75L18.45,3.32a2,2,0,0,1,2.83,0l1.4,1.43a1.91,1.91,0,0,1,.58,1.4,1.91,1.91,0,0,1-.58,1.4L9.25,21ZM18.45,9,17,7.55Zm-12,3A5.31,5.31,0,0,0,4.9,8.1,5.31,5.31,0,0,0,1,6.5,5.31,5.31,0,0,0,4.9,4.9,5.31,5.31,0,0,0,6.5,1,5.31,5.31,0,0,0,8.1,4.9,5.31,5.31,0,0,0,12,6.5,5.46,5.46,0,0,0,6.5,12Z\"/>\n",
              "  </svg>\n",
              "    </button>\n",
              "    <script>\n",
              "      (() => {\n",
              "      const buttonEl =\n",
              "        document.querySelector('#id_4435687e-b422-461f-9113-59a932397c3c button.colab-df-generate');\n",
              "      buttonEl.style.display =\n",
              "        google.colab.kernel.accessAllowed ? 'block' : 'none';\n",
              "\n",
              "      buttonEl.onclick = () => {\n",
              "        google.colab.notebook.generateWithVariable('data');\n",
              "      }\n",
              "      })();\n",
              "    </script>\n",
              "  </div>\n",
              "\n",
              "    </div>\n",
              "  </div>\n"
            ],
            "application/vnd.google.colaboratory.intrinsic+json": {
              "type": "dataframe",
              "variable_name": "data"
            }
          },
          "metadata": {},
          "execution_count": 3
        }
      ]
    },
    {
      "cell_type": "code",
      "source": [
        "data.info()"
      ],
      "metadata": {
        "colab": {
          "base_uri": "https://localhost:8080/"
        },
        "id": "vFHKz1c2-Uxp",
        "outputId": "98d9a47f-d573-442b-d98f-d529ee18dc51"
      },
      "execution_count": null,
      "outputs": [
        {
          "output_type": "stream",
          "name": "stdout",
          "text": [
            "<class 'pandas.core.frame.DataFrame'>\n",
            "RangeIndex: 21613 entries, 0 to 21612\n",
            "Data columns (total 21 columns):\n",
            " #   Column         Non-Null Count  Dtype  \n",
            "---  ------         --------------  -----  \n",
            " 0   id             21613 non-null  int64  \n",
            " 1   date           21613 non-null  object \n",
            " 2   price          21613 non-null  float64\n",
            " 3   bedrooms       21613 non-null  int64  \n",
            " 4   bathrooms      21613 non-null  float64\n",
            " 5   sqft_living    21613 non-null  int64  \n",
            " 6   sqft_lot       21613 non-null  int64  \n",
            " 7   floors         21613 non-null  float64\n",
            " 8   waterfront     21613 non-null  int64  \n",
            " 9   view           21613 non-null  int64  \n",
            " 10  condition      21613 non-null  int64  \n",
            " 11  grade          21613 non-null  int64  \n",
            " 12  sqft_above     21613 non-null  int64  \n",
            " 13  sqft_basement  21613 non-null  int64  \n",
            " 14  yr_built       21613 non-null  int64  \n",
            " 15  yr_renovated   21613 non-null  int64  \n",
            " 16  zipcode        21613 non-null  int64  \n",
            " 17  lat            21613 non-null  float64\n",
            " 18  long           21613 non-null  float64\n",
            " 19  sqft_living15  21613 non-null  int64  \n",
            " 20  sqft_lot15     21613 non-null  int64  \n",
            "dtypes: float64(5), int64(15), object(1)\n",
            "memory usage: 3.5+ MB\n"
          ]
        }
      ]
    },
    {
      "cell_type": "markdown",
      "source": [
        "# Eliminamos Columnas Irrelevantes"
      ],
      "metadata": {
        "id": "shRi9kzDCu0u"
      }
    },
    {
      "cell_type": "code",
      "source": [
        "# Eliminar las columnas 'id' y 'date'\n",
        "data.drop(columns=['id', 'date'], inplace=True)\n",
        "\n",
        "# Mover la columna 'price' al final\n",
        "columns = list(data.columns)\n",
        "columns.append(columns.pop(columns.index('price')))\n",
        "data = data[columns]\n",
        "\n",
        "# Paso 3: Normalización de características\n",
        "scaler = StandardScaler()\n",
        "scaled_data = scaler.fit_transform(data.select_dtypes(include=[np.number]))\n",
        "\n",
        "scaled_data\n"
      ],
      "metadata": {
        "colab": {
          "base_uri": "https://localhost:8080/"
        },
        "id": "-ZNd9j9F-yaf",
        "outputId": "06516c6e-9873-4003-d5fb-ed84ee0c1be0"
      },
      "execution_count": null,
      "outputs": [
        {
          "output_type": "execute_result",
          "data": {
            "text/plain": [
              "array([[-0.39873715, -1.44746357, -0.97983502, ..., -0.9433552 ,\n",
              "        -0.26071541, -0.86671733],\n",
              "       [-0.39873715,  0.1756067 ,  0.53363434, ..., -0.43268619,\n",
              "        -0.18786773, -0.00568792],\n",
              "       [-1.47395936, -1.44746357, -1.42625404, ...,  1.07013975,\n",
              "        -0.17237524, -0.98084935],\n",
              "       ...,\n",
              "       [-1.47395936, -1.77207762, -1.15404732, ..., -1.41025258,\n",
              "        -0.39414129, -0.37586519],\n",
              "       [-0.39873715,  0.50022075, -0.52252773, ..., -0.8412214 ,\n",
              "        -0.42051149, -0.38158814],\n",
              "       [-1.47395936, -1.77207762, -1.15404732, ..., -1.41025258,\n",
              "        -0.41794772, -0.58588173]])"
            ]
          },
          "metadata": {},
          "execution_count": 5
        }
      ]
    },
    {
      "cell_type": "markdown",
      "source": [
        "# Inicializamos el KMEANS"
      ],
      "metadata": {
        "id": "6US-IxqZC18-"
      }
    },
    {
      "cell_type": "code",
      "source": [
        "from sklearn.cluster import KMeans\n",
        "\n",
        "k = 3\n",
        "kmeans = KMeans(n_clusters=k, random_state=42 , n_init=10)\n",
        "\n",
        "\n",
        "y_pred = kmeans.fit_predict(scaled_data)\n",
        "labels = kmeans.labels_\n",
        "centroids = kmeans.cluster_centers_\n",
        "y_pred"
      ],
      "metadata": {
        "colab": {
          "base_uri": "https://localhost:8080/"
        },
        "id": "IRmn8KpS_a2x",
        "outputId": "30121c98-0595-4c2e-9a13-88879a620e01"
      },
      "execution_count": null,
      "outputs": [
        {
          "output_type": "execute_result",
          "data": {
            "text/plain": [
              "array([0, 0, 0, ..., 0, 2, 0], dtype=int32)"
            ]
          },
          "metadata": {},
          "execution_count": 6
        }
      ]
    },
    {
      "cell_type": "markdown",
      "source": [
        "# Mostramos los centroides"
      ],
      "metadata": {
        "id": "0rzhUqjsC6f2"
      }
    },
    {
      "cell_type": "code",
      "source": [
        "kmeans.cluster_centers_"
      ],
      "metadata": {
        "colab": {
          "base_uri": "https://localhost:8080/"
        },
        "id": "SxGg_ywyEVJo",
        "outputId": "4b6d3de4-86f6-4933-a8e7-f15d77e5020b"
      },
      "execution_count": null,
      "outputs": [
        {
          "output_type": "execute_result",
          "data": {
            "text/plain": [
              "array([[-0.30728258, -0.64992421, -0.5424601 , -0.10719815, -0.65030381,\n",
              "        -0.05794983, -0.12382925,  0.29299613, -0.6066161 , -0.62647382,\n",
              "         0.04645491, -0.644737  ,  0.02829564,  0.30505325,  0.04742751,\n",
              "        -0.37509498, -0.52249806, -0.11640899, -0.34235535],\n",
              "       [ 0.82247658,  1.23974454,  1.69987584,  0.56552184,  0.54556258,\n",
              "         0.4283277 ,  1.01645718, -0.07632585,  1.5305219 ,  1.49446866,\n",
              "         0.73135502,  0.35580932,  0.25991618, -0.23327198,  0.240329  ,\n",
              "         0.32183591,  1.50891165,  0.58667784,  1.58286367],\n",
              "       [ 0.12162402,  0.45868778,  0.11479449, -0.06984623,  0.73900902,\n",
              "        -0.08717263, -0.22705458, -0.40126398,  0.27764392,  0.321454  ,\n",
              "        -0.36324055,  0.80727299, -0.14647057, -0.35579157, -0.16678679,\n",
              "         0.42337633,  0.16232066, -0.06479088, -0.13310382]])"
            ]
          },
          "metadata": {},
          "execution_count": 7
        }
      ]
    },
    {
      "cell_type": "markdown",
      "source": [
        "# Predecimos"
      ],
      "metadata": {
        "id": "Z0mXxJLBC-hp"
      }
    },
    {
      "cell_type": "code",
      "source": [
        "\n",
        "# Seleccionar muestras del conjunto de datos preprocesado y normalizado\n",
        "X_samples = scaled_data[np.random.choice(scaled_data.shape[0], 4, replace=False)]\n",
        "\n",
        "# Imprimir las muestras seleccionadas\n",
        "print(\"Muestras seleccionadas:\")\n",
        "print(X_samples)\n",
        "\n",
        "# Utilizar el modelo KMeans para predecir el cluster de las nuevas muestras\n",
        "y_pred = kmeans.predict(X_samples)\n",
        "print(\"Predicciones de cluster para las nuevas muestras:\")\n",
        "print(y_pred)"
      ],
      "metadata": {
        "colab": {
          "base_uri": "https://localhost:8080/"
        },
        "id": "nOgDkI8kEQYQ",
        "outputId": "ccf94573-7007-4282-f64b-5e78e8b61437"
      },
      "execution_count": null,
      "outputs": [
        {
          "output_type": "stream",
          "name": "stdout",
          "text": [
            "Muestras seleccionadas:\n",
            "[[-0.39873715  1.47406291  0.63162876  0.06627383  1.86247216 -0.08717263\n",
            "  -0.30575946 -0.62918687  0.29191561  1.05257695 -0.65868104  1.463768\n",
            "  -0.21012839 -1.26981297 -1.82124423  1.44076892 -0.97253628 -0.03268644\n",
            "  -0.43879034]\n",
            " [ 3.90215168  2.77251912  2.82017079  0.19333942  0.93650577 -0.08717263\n",
            "   2.30418496 -0.62918687  2.84416969  3.47990264 -0.65868104  0.71477399\n",
            "  -0.21012839 -0.72779528  0.42037578 -0.09304873  1.82884799  0.04188263\n",
            "   5.20243682]\n",
            " [ 0.67648506 -0.47362141 -0.17410313 -0.18474288 -0.915427   -0.08717263\n",
            "  -0.30575946  0.90755354 -0.55883575 -1.00038508  1.51049281 -1.08962069\n",
            "   4.67945823  0.87956753  1.08651077 -0.51200818 -0.0971037  -0.19460678\n",
            "   0.08556322]\n",
            " [-0.39873715  0.50022075 -0.59874561 -0.29495653  0.93650577 -0.08717263\n",
            "  -0.30575946 -0.62918687 -0.55883575 -0.31203899 -0.65868104  1.02118063\n",
            "  -0.21012839  0.56183302 -0.12018229 -0.56171523 -0.65154434 -0.36180117\n",
            "  -0.59950131]]\n",
            "Predicciones de cluster para las nuevas muestras:\n",
            "[2 1 0 2]\n"
          ]
        }
      ]
    },
    {
      "cell_type": "markdown",
      "source": [
        "<h1> CALCULAMOS EL VALOR OPTIMO DE CLOUSTERS USANDO EL METODO DEL CODO Y EL METODO DE LA SILUETA</h1>"
      ],
      "metadata": {
        "id": "vU9hI-iKLo44"
      }
    },
    {
      "cell_type": "markdown",
      "source": [
        "# **Metodo del Codo**"
      ],
      "metadata": {
        "id": "W7tpeaZ8DHbY"
      }
    },
    {
      "cell_type": "code",
      "source": [
        "##METODO DEL CODO\n",
        "none_y = scaled_data[:, :-1]\n",
        "\n",
        "inertias = []\n",
        "k_range = range(1, 20)  # Prueba con un rango de 1 a 20 clusters\n",
        "\n",
        "for k in k_range:\n",
        "    kmeans = KMeans(n_clusters=k, random_state=42, n_init=10)\n",
        "    kmeans.fit(none_y)\n",
        "    inertias.append(kmeans.inertia_)\n",
        "\n",
        "# Graficar la curva de inercia\n",
        "plt.plot(k_range, inertias, 'bo-')\n",
        "plt.xlabel('Número de Clusters')\n",
        "plt.ylabel('Inercia')\n",
        "plt.title('Método del Codo')\n",
        "plt.show()\n",
        "best_codo_index = np.argmin(inertias)\n",
        "best_num_clusters_codo = best_codo_index + 1  # Sumamos 1 ya que comenzamos desde 1 cluster"
      ],
      "metadata": {
        "colab": {
          "base_uri": "https://localhost:8080/",
          "height": 472
        },
        "id": "x8aXl97fAJc2",
        "outputId": "0677f1c6-10d6-4ea4-dbc2-a7d27c461261"
      },
      "execution_count": null,
      "outputs": [
        {
          "output_type": "display_data",
          "data": {
            "text/plain": [
              "<Figure size 640x480 with 1 Axes>"
            ],
            "image/png": "[encoded data removed]"
          },
          "metadata": {}
        }
      ]
    },
    {
      "cell_type": "markdown",
      "source": [
        "# **Metodo de la Silueta**"
      ],
      "metadata": {
        "id": "b2svXm7fDKmb"
      }
    },
    {
      "cell_type": "code",
      "source": [
        "##METODO DE LA SILUETA\n",
        "silhouette_scores = []\n",
        "k_range = range(2, 11)  # Prueba con un rango de 2 a 10 clusters\n",
        "\n",
        "for k in k_range:\n",
        "    kmeans = KMeans(n_clusters=k, random_state=42, n_init=10)\n",
        "    cluster_labels = kmeans.fit_predict(none_y)\n",
        "    silhouette_avg = silhouette_score(none_y, cluster_labels)\n",
        "    silhouette_scores.append(silhouette_avg)\n",
        "\n",
        "# Graficar la curva de silueta\n",
        "plt.plot(k_range, silhouette_scores, 'bo-')\n",
        "plt.xlabel('Número de Clusters')\n",
        "plt.ylabel('Puntuación de Silueta')\n",
        "plt.title('Método de la Silueta')\n",
        "plt.show()\n",
        "best_silhouette_index = np.argmax(silhouette_scores)\n",
        "best_num_clusters = best_silhouette_index + 2\n",
        "print(\"El número óptimo de clusters según la puntuación de silueta es:\", best_num_clusters)"
      ],
      "metadata": {
        "colab": {
          "base_uri": "https://localhost:8080/",
          "height": 489
        },
        "id": "Si4CsVmjAjsh",
        "outputId": "46f1b628-da9d-430a-a357-98309c7f2130"
      },
      "execution_count": null,
      "outputs": [
        {
          "output_type": "display_data",
          "data": {
            "text/plain": [
              "<Figure size 640x480 with 1 Axes>"
            ],
            "image/png": "[encoded data removed]"
          },
          "metadata": {}
        },
        {
          "output_type": "stream",
          "name": "stdout",
          "text": [
            "El número óptimo de clusters según la puntuación de silueta es: 2\n"
          ]
        }
      ]
    },
    {
      "cell_type": "markdown",
      "source": [
        "# **SEPARAMOS EN PRUEBA Y ENTRENAMIENTO 80% - 20%**"
      ],
      "metadata": {
        "id": "jOLQdxcTDQ8u"
      }
    },
    {
      "cell_type": "code",
      "source": [
        "# Separar los datos en entrenamiento y prueba\n",
        "train_data, test_data = train_test_split(data, test_size=0.2, random_state=42)\n",
        "X_train = train_data\n",
        "y_train = train_data['price']\n",
        "X_test = test_data\n",
        "y_test = test_data['price']\n",
        "\n",
        "print('-' * 80)\n",
        "print(f\"El 80% de ejemplos que serán para el entrenamiento son: {len(X_train)}\")\n",
        "print(f\"El 20% de ejemplos que serán para el prueba son: {len(X_test)}\")"
      ],
      "metadata": {
        "colab": {
          "base_uri": "https://localhost:8080/"
        },
        "id": "oOyAhGtxMnd0",
        "outputId": "30d2fa2e-45ef-47a0-8c3e-45c68c92922d"
      },
      "execution_count": null,
      "outputs": [
        {
          "output_type": "stream",
          "name": "stdout",
          "text": [
            "--------------------------------------------------------------------------------\n",
            "El 80% de ejemplos que serán para el entrenamiento son: 17290\n",
            "El 20% de ejemplos que serán para el prueba son: 4323\n"
          ]
        }
      ]
    },
    {
      "cell_type": "markdown",
      "source": [
        "## **eliminamos la y**"
      ],
      "metadata": {
        "id": "2ePpVA4SW4p4"
      }
    },
    {
      "cell_type": "code",
      "source": [
        "none_y"
      ],
      "metadata": {
        "colab": {
          "base_uri": "https://localhost:8080/"
        },
        "id": "iUbqhwTlW2Nw",
        "outputId": "acb8f599-8ee1-4fb2-acee-4529f8ec89b8"
      },
      "execution_count": null,
      "outputs": [
        {
          "output_type": "execute_result",
          "data": {
            "text/plain": [
              "array([[-0.39873715, -1.44746357, -0.97983502, ..., -0.30607896,\n",
              "        -0.9433552 , -0.26071541],\n",
              "       [-0.39873715,  0.1756067 ,  0.53363434, ..., -0.74634143,\n",
              "        -0.43268619, -0.18786773],\n",
              "       [-1.47395936, -1.44746357, -1.42625404, ..., -0.13565477,\n",
              "         1.07013975, -0.17237524],\n",
              "       ...,\n",
              "       [-1.47395936, -1.77207762, -1.15404732, ..., -0.60432128,\n",
              "        -1.41025258, -0.39414129],\n",
              "       [-0.39873715,  0.50022075, -0.52252773, ...,  1.02891048,\n",
              "        -0.8412214 , -0.42051149],\n",
              "       [-1.47395936, -1.77207762, -1.15404732, ..., -0.60432128,\n",
              "        -1.41025258, -0.41794772]])"
            ]
          },
          "metadata": {},
          "execution_count": 12
        }
      ]
    },
    {
      "cell_type": "code",
      "source": [
        "# Normalizar los datos\n",
        "scaler = StandardScaler()\n",
        "X_train_ = scaler.fit_transform(X_train)\n",
        "X_test_ = scaler.transform(X_test)"
      ],
      "metadata": {
        "id": "kKnXlzJsBcX6"
      },
      "execution_count": null,
      "outputs": []
    },
    {
      "cell_type": "code",
      "source": [
        "X_train_"
      ],
      "metadata": {
        "colab": {
          "base_uri": "https://localhost:8080/"
        },
        "id": "enZOel2BMz2J",
        "outputId": "718c27ca-c140-4b0a-b4d4-5c7ca079954f"
      },
      "execution_count": null,
      "outputs": [
        {
          "output_type": "execute_result",
          "data": {
            "text/plain": [
              "array([[-0.39526335, -0.47445144, -0.32393262, ...,  1.12607326,\n",
              "         0.01344043, -0.58864574],\n",
              "       [-1.46896378, -1.45258323, -1.18365301, ..., -1.04652268,\n",
              "        -0.28066159, -0.77677507],\n",
              "       [-0.39526335, -1.45258323, -1.09547656, ..., -1.19331971,\n",
              "        -0.1789339 , -0.85562339],\n",
              "       ...,\n",
              "       [-0.39526335,  0.50368036,  0.05081729, ..., -0.42997519,\n",
              "        -0.36604019,  0.10300621],\n",
              "       [-2.54266422, -1.77862716, -1.8670205 , ..., -1.19331971,\n",
              "         0.08265159, -0.80997436],\n",
              "       [ 0.67843709,  0.50368036,  1.16404497, ...,  1.52242522,\n",
              "        -0.24443927, -0.61631182]])"
            ]
          },
          "metadata": {},
          "execution_count": 14
        }
      ]
    },
    {
      "cell_type": "markdown",
      "source": [
        "# **Añadimos la columna Kmeans3 con las nuevas etiquetas **"
      ],
      "metadata": {
        "id": "TgFgTX7qDnmR"
      }
    },
    {
      "cell_type": "code",
      "source": [
        "# KMeans clustering on training data\n",
        "kmeans = KMeans(n_clusters=best_num_clusters, n_init=10, random_state=42)\n",
        "kmeans.fit(X_train_)\n",
        "train_data['kmeans3'] = kmeans.labels_\n",
        "\n",
        "# Este método ajusta el modelo K-Means utilizando el conjunto de datos X_train y\n",
        "# Transformamos los datos de entrenamiento en distancias euclidianas a los centroides\n",
        "X_digits_dist = kmeans.transform(X_train_)\n"
      ],
      "metadata": {
        "id": "nSww4ZrXBfVR"
      },
      "execution_count": null,
      "outputs": []
    },
    {
      "cell_type": "code",
      "source": [
        "print(X_digits_dist.shape)\n",
        "print(X_digits_dist)"
      ],
      "metadata": {
        "colab": {
          "base_uri": "https://localhost:8080/"
        },
        "id": "07HdGx7iC7-f",
        "outputId": "6684e388-0ab7-435f-a4c8-76f4ed0584bc"
      },
      "execution_count": null,
      "outputs": [
        {
          "output_type": "stream",
          "name": "stdout",
          "text": [
            "(17290, 2)\n",
            "[[3.31643985 3.71580219]\n",
            " [2.6501524  6.32319372]\n",
            " [2.48587352 5.92886206]\n",
            " ...\n",
            " [3.33197255 3.10709839]\n",
            " [4.21915278 7.66480344]\n",
            " [4.74554714 2.88121408]]\n"
          ]
        }
      ]
    },
    {
      "cell_type": "markdown",
      "source": [
        "# **Visualizamos el Score**"
      ],
      "metadata": {
        "id": "bLzm4QjRDwIl"
      }
    },
    {
      "cell_type": "code",
      "source": [
        "kmeans = KMeans(n_clusters=k, random_state=42, n_init=10)\n",
        "y_pred = kmeans.fit_predict(X_train)\n",
        "silhouette_avg = silhouette_score(X_train, y_pred) # Calculamos el score del modelo\n",
        "print(\"Silhouette Score:\", silhouette_avg)"
      ],
      "metadata": {
        "colab": {
          "base_uri": "https://localhost:8080/"
        },
        "id": "JRQVo33vTet0",
        "outputId": "08cdfe87-ce0b-4250-e10f-ec7a81f2b3ca"
      },
      "execution_count": null,
      "outputs": [
        {
          "output_type": "stream",
          "name": "stdout",
          "text": [
            "Silhouette Score: 0.4904964484026139\n"
          ]
        }
      ]
    }
  ]
}