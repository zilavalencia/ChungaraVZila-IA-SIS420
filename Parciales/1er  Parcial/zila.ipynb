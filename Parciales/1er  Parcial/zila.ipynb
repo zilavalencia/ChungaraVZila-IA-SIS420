{
  "nbformat": 4,
  "nbformat_minor": 0,
  "metadata": {
    "colab": {
      "provenance": [],
      "include_colab_link": true
    },
    "kernelspec": {
      "name": "python3",
      "display_name": "Python 3"
    },
    "language_info": {
      "name": "python"
    }
  },
  "cells": [
    {
      "cell_type": "markdown",
      "metadata": {
        "id": "view-in-github",
        "colab_type": "text"
      },
      "source": [
        "<a href=\"https://colab.research.google.com/github/zilavalencia/ChungaraVZila-IA-SIS420/blob/main/Parciales/1er%20%20Parcial/zila.ipynb\" target=\"_parent\"><img src=\"https://colab.research.google.com/assets/colab-badge.svg\" alt=\"Open In Colab\"/></a>"
      ]
    },
    {
      "cell_type": "markdown",
      "source": [
        "Examen 1er parcial\n",
        "\n",
        "Nombre: Chungara Valencia Zila"
      ],
      "metadata": {
        "id": "xa9i0S7p9vad"
      }
    },
    {
      "cell_type": "code",
      "source": [
        "from google.colab import drive\n",
        "drive.mount('/content/drive')"
      ],
      "metadata": {
        "colab": {
          "base_uri": "https://localhost:8080/"
        },
        "id": "jFvJ5CwVFzwl",
        "outputId": "69d6d9fc-1a1a-4da9-eae2-7898d21d8401"
      },
      "execution_count": 1,
      "outputs": [
        {
          "output_type": "stream",
          "name": "stdout",
          "text": [
            "Mounted at /content/drive\n"
          ]
        }
      ]
    },
    {
      "cell_type": "code",
      "execution_count": 2,
      "metadata": {
        "id": "LgSMq8VOyi9L"
      },
      "outputs": [],
      "source": [
        "\n",
        "import os\n",
        "import numpy as np\n",
        "\n",
        "from matplotlib import pyplot\n",
        "from mpl_toolkits.mplot3d import Axes3D\n",
        "\n",
        "%matplotlib inline"
      ]
    },
    {
      "cell_type": "code",
      "source": [
        "#dataset cargado para ver las ventas de videojuegos y calificacaciones\n",
        "import numpy as np\n",
        "from sklearn.model_selection import train_test_split\n",
        "\n",
        "# Cargar el dataset\n",
        "data = np.loadtxt('/content/drive/MyDrive/dataset_10.csv', delimiter=';')\n",
        "\n",
        "# Separar en características (X) y etiquetas (y)\n",
        "X = data[:, :6]   # Las primeras 6 columnas\n",
        "y = data[:, 6]    # La columna 7 es la variable objetivo\n",
        "\n",
        "# Dividir en entrenamiento (80%) y prueba (20%)\n",
        "X_train, X_test, y_train, y_test = train_test_split(X, y, test_size=0.2, random_state=42)\n",
        "\n",
        "# Imprimir los tamaños para verificar\n",
        "print(\"Tamaño de entrenamiento (X):\", X_train.shape)\n",
        "print(\"Tamaño de prueba (X):\", X_test.shape)\n"
      ],
      "metadata": {
        "id": "1AVI-0lQRNxS",
        "colab": {
          "base_uri": "https://localhost:8080/"
        },
        "outputId": "76f20ad7-4998-4a98-f2bc-940f58999937"
      },
      "execution_count": 3,
      "outputs": [
        {
          "output_type": "stream",
          "name": "stdout",
          "text": [
            "Tamaño de entrenamiento (X): (13278, 6)\n",
            "Tamaño de prueba (X): (3320, 6)\n"
          ]
        }
      ]
    },
    {
      "cell_type": "code",
      "source": [
        "def normalizarCaracteristicas(X):\n",
        "    \"\"\"\n",
        "    Normaliza las características de X usando la media y desviación estándar por columna.\n",
        "    Devuelve: X normalizado, la media (mu) y desviación estándar (sigma) para revertir o aplicar a otros datos.\n",
        "    \"\"\"\n",
        "    mu = np.mean(X, axis=0)          # Media de cada característica\n",
        "    sigma = np.std(X, axis=0)        # Desviación estándar de cada característica\n",
        "\n",
        "    # Evita división por cero\n",
        "    sigma[sigma == 0] = 1\n",
        "\n",
        "    X_norm = (X - mu) / sigma\n",
        "\n",
        "    return X_norm, mu, sigma\n",
        "\n"
      ],
      "metadata": {
        "id": "D09kjRcrV39y"
      },
      "execution_count": 4,
      "outputs": []
    },
    {
      "cell_type": "code",
      "source": [
        "X_train_norm, mu, sigma = normalizarCaracteristicas(X_train)\n",
        "X_test_norm = (X_test - mu) / sigma  # Usamos mu y sigma del entrenamiento\n",
        "\n",
        "# Agregar columna de unos para el bias\n",
        "X_train_ready = np.concatenate([np.ones((X_train_norm.shape[0], 1)), X_train_norm], axis=1)\n",
        "X_test_ready = np.concatenate([np.ones((X_test_norm.shape[0], 1)), X_test_norm], axis=1)\n"
      ],
      "metadata": {
        "id": "LvT18hp3WTpT"
      },
      "execution_count": 5,
      "outputs": []
    },
    {
      "cell_type": "code",
      "source": [
        "print(X_train_ready)"
      ],
      "metadata": {
        "colab": {
          "base_uri": "https://localhost:8080/"
        },
        "id": "F_X6USoTv7CG",
        "outputId": "b784ee71-ae19-4b13-d02b-cb2d643b8e0c"
      },
      "execution_count": 6,
      "outputs": [
        {
          "output_type": "stream",
          "name": "stdout",
          "text": [
            "[[ 1.          1.2484237   0.00514962 ... -0.3227022  -0.25131623\n",
            "  -0.27258791]\n",
            " [ 1.          1.07150153  0.30308737 ... -0.3227022  -0.25131623\n",
            "  -0.27258791]\n",
            " [ 1.         -0.33116406  1.34586948 ... -0.3227022   0.55850383\n",
            "  -0.27258791]\n",
            " ...\n",
            " [ 1.         -0.60915483  0.74999399 ...  0.06080335 -0.25131623\n",
            "  -0.0419229 ]\n",
            " [ 1.         -1.55315649 -0.59072587 ...  1.82041702 -0.25131623\n",
            "   1.34206711]\n",
            " [ 1.          1.55933991  0.00514962 ... -0.30014305 -0.25131623\n",
            "  -0.27258791]]\n"
          ]
        }
      ]
    },
    {
      "cell_type": "code",
      "source": [
        "# usare la funcion del costo con el metodo Mean Squared Error\n",
        "# para ver cuan serca estan mis predicciones de regresion\n",
        "# con las y realeas en este caso Y= ventas globales\n",
        "def calcularCosto(X, y, theta):\n",
        "\n",
        "    m = y.size\n",
        "\n",
        "    J = 0\n",
        "\n",
        "    h = np.dot(X, theta)\n",
        "\n",
        "    J = (1/(2 * m)) * np.sum(np.square(np.dot(X, theta) - y))\n",
        "\n",
        "    return J\n",
        "\n",
        "\n"
      ],
      "metadata": {
        "id": "GV5MHEOrjl8K"
      },
      "execution_count": 7,
      "outputs": []
    },
    {
      "cell_type": "code",
      "source": [
        "def calcularDescensoGradiente(X, y, theta, alpha, num_iters):\n",
        "    \"\"\"\n",
        "    Aplica descenso de gradiente para minimizar el costo J.\n",
        "\n",
        "    X: matriz de características (ya normalizada y con columna de unos añadida)\n",
        "    y: vector de etiquetas (valores reales)\n",
        "    theta: parámetros iniciales\n",
        "    alpha: tasa de aprendizaje\n",
        "    num_iters: número de iteraciones\n",
        "\n",
        "    Retorna:\n",
        "        - theta final ajustado\n",
        "        - historial de costo por iteración\n",
        "    \"\"\"\n",
        "    m = len(y)\n",
        "    J_historico = []\n",
        "\n",
        "    for i in range(num_iters):\n",
        "        predicciones = X.dot(theta)          # h(x)\n",
        "        error = predicciones - y\n",
        "        gradiente = (1 / m) * X.T.dot(error) # ∇J(theta)\n",
        "        theta = theta - alpha * gradiente    # actualización\n",
        "\n",
        "        costo = calcularCosto(X, y, theta)\n",
        "        J_historico.append(costo)\n",
        "\n",
        "    return theta, J_historico\n",
        "\n"
      ],
      "metadata": {
        "id": "1srFrqsylAcL"
      },
      "execution_count": 8,
      "outputs": []
    },
    {
      "cell_type": "code",
      "source": [
        "# calculamos las mejores parametros de theta\n",
        "import matplotlib.pyplot as pyplot\n",
        "import numpy as np\n",
        "\n",
        "# Aquí ya has calculado tu descenso de gradiente\n",
        "theta = np.zeros(X_train_ready.shape[1])\n",
        "alpha = 0.01\n",
        "num_iters = 1000\n",
        "\n",
        "# Aplicar descenso de gradiente\n",
        "theta_final, J_historial = calcularDescensoGradiente(X_train_ready, y_train, theta, alpha, num_iters)\n",
        "\n",
        "# Mostrar los resultados\n",
        "print(\"Theta final:\", theta_final)\n",
        "print(\"Costo final:\", J_historial[-1])\n",
        "\n",
        "# Graficar la evolución del costo durante el entrenamiento\n",
        "pyplot.plot(np.arange(len(J_historial)), J_historial, lw=2)\n",
        "pyplot.xlabel('Número de iteraciones')\n",
        "pyplot.ylabel('Costo J')\n",
        "pyplot.title('Evolución del Costo durante el Entrenamiento')\n",
        "pyplot.grid(True)  # Añadir una cuadrícula para facilitar la visualización\n",
        "pyplot.show()  # Mostrar la gráfica\n"
      ],
      "metadata": {
        "colab": {
          "base_uri": "https://localhost:8080/",
          "height": 527
        },
        "id": "xgwti90hka4S",
        "outputId": "afaedd89-9f91-4217-9629-3b20d245dbe5"
      },
      "execution_count": 9,
      "outputs": [
        {
          "output_type": "stream",
          "name": "stdout",
          "text": [
            "Theta final: [ 5.28681799e-01 -5.55643567e-04 -7.14760654e-04  7.43238200e-01\n",
            "  4.45078482e-01  3.11300961e-01  1.77536681e-01]\n",
            "Costo final: 3.1168100839828746e-05\n"
          ]
        },
        {
          "output_type": "display_data",
          "data": {
            "text/plain": [
              "<Figure size 640x480 with 1 Axes>"
            ],
            "image/png": "[encoded data removed]"
          },
          "metadata": {}
        }
      ]
    },
    {
      "cell_type": "code",
      "source": [
        "#  ejemplo\n",
        "y_pred = np.dot([1,4, 2009,15.75,11.01,3.28,2.96], theta)\n",
        "print(y_pred)"
      ],
      "metadata": {
        "colab": {
          "base_uri": "https://localhost:8080/"
        },
        "id": "ob_CUXPTf3Pr",
        "outputId": "f948f2dd-4f5d-4c85-fcdc-bb9bb6270872"
      },
      "execution_count": 10,
      "outputs": [
        {
          "output_type": "stream",
          "name": "stdout",
          "text": [
            "0.0\n"
          ]
        }
      ]
    },
    {
      "cell_type": "code",
      "source": [
        "# Realizar las predicciones para el conjunto de entrenamiento y prueba\n",
        "y_train_pred = np.dot(X_train_ready, theta_final)  # Predicción para el conjunto de entrenamiento\n",
        "y_test_pred = np.dot(X_test_ready, theta_final)  # Predicción para el conjunto de prueba\n",
        "\n",
        "# Calcular el error absoluto en ambos conjuntos\n",
        "error_train = np.mean(np.abs(y_train_pred - y_train))  # Error medio absoluto en el entrenamiento\n",
        "error_test = np.mean(np.abs(y_test_pred - y_test))  # Error medio absoluto en la prueba\n",
        "\n",
        "# Calcular el porcentaje de error (porcentaje de diferencia respecto al valor real)\n",
        "porcentaje_error_train = (error_train / np.mean(y_train)) * 100\n",
        "porcentaje_error_test = (error_test / np.mean(y_test)) * 100\n",
        "\n",
        "# Imprimir los resultados\n",
        "print(f\"Porcentaje de error en el conjunto de entrenamiento: {porcentaje_error_train:.2f}%\")\n",
        "print(f\"Porcentaje de error en el conjunto de prueba: {porcentaje_error_test:.2f}%\")\n",
        "\n"
      ],
      "metadata": {
        "colab": {
          "base_uri": "https://localhost:8080/"
        },
        "id": "L6Ln8UyvnLLZ",
        "outputId": "1133def5-d9d0-4cb2-d885-6501eb0b42af"
      },
      "execution_count": 11,
      "outputs": [
        {
          "output_type": "stream",
          "name": "stdout",
          "text": [
            "Porcentaje de error en el conjunto de entrenamiento: 0.82%\n",
            "Porcentaje de error en el conjunto de prueba: 0.77%\n"
          ]
        }
      ]
    },
    {
      "cell_type": "code",
      "source": [
        "def evaluar_predicciones_regresion(theta, X, y, tolerancia=0.1):\n",
        "    \"\"\"\n",
        "    Evalúa las predicciones del modelo de regresión con una tolerancia para determinar si son correctas o incorrectas.\n",
        "\n",
        "    theta: parámetros del modelo (ajustados con descenso de gradiente)\n",
        "    X: características (matriz de entrada)\n",
        "    y: etiquetas reales (valores verdaderos)\n",
        "    tolerancia: umbral para considerar una predicción como correcta (por defecto 0.1)\n",
        "\n",
        "    Retorna: precisión (en %), número de correctas e incorrectas.\n",
        "    \"\"\"\n",
        "    # Predicciones del modelo\n",
        "    y_pred = np.dot(X, theta)\n",
        "\n",
        "    # Calcular la diferencia absoluta entre las predicciones y las etiquetas reales\n",
        "    diferencia = np.abs(y_pred - y)\n",
        "\n",
        "    # Calcular cuántas predicciones están dentro de la tolerancia\n",
        "    correctas = np.sum(diferencia <= tolerancia)\n",
        "    incorrectas = np.sum(diferencia > tolerancia)\n",
        "\n",
        "    # Calcular la precisión (porcentaje de predicciones correctas)\n",
        "    precision = (correctas / len(y)) * 100\n",
        "\n",
        "    return precision, correctas, incorrectas\n",
        "\n",
        "# Evaluar las predicciones en el conjunto de prueba\n",
        "precision_test, correctas_test, incorrectas_test = evaluar_predicciones_regresion(theta_final, X_test_ready, y_test)\n",
        "\n",
        "# Calcular el porcentaje de predicciones incorrectas\n",
        "incorrectas_porcentaje_test = 100 - precision_test\n",
        "\n",
        "# Imprimir los resultados\n",
        "print(f\"Precisión de las predicciones en el conjunto de prueba: {precision_test:.2f}%\")\n",
        "print(f\"Porcentaje de predicciones incorrectas en el conjunto de prueba: {incorrectas_porcentaje_test:.2f}%\")\n",
        "print(f\"Número de predicciones correctas en el conjunto de prueba: {correctas_test}\")\n",
        "print(f\"Número de predicciones incorrectas en el conjunto de prueba: {incorrectas_test}\")\n",
        "\n",
        "\n"
      ],
      "metadata": {
        "colab": {
          "base_uri": "https://localhost:8080/"
        },
        "id": "KB-V0VFq0ouI",
        "outputId": "6bdcd64f-c738-4cf6-c362-3d275f3740a9"
      },
      "execution_count": 12,
      "outputs": [
        {
          "output_type": "stream",
          "name": "stdout",
          "text": [
            "Precisión de las predicciones en el conjunto de prueba: 99.91%\n",
            "Porcentaje de predicciones incorrectas en el conjunto de prueba: 0.09%\n",
            "Número de predicciones correctas en el conjunto de prueba: 3317\n",
            "Número de predicciones incorrectas en el conjunto de prueba: 3\n"
          ]
        }
      ]
    }
  ]
}