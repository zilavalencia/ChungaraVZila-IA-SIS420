{
  "nbformat": 4,
  "nbformat_minor": 0,
  "metadata": {
    "colab": {
      "provenance": [],
      "include_colab_link": true
    },
    "kernelspec": {
      "name": "python3",
      "display_name": "Python 3"
    },
    "language_info": {
      "name": "python"
    }
  },
  "cells": [
    {
      "cell_type": "markdown",
      "metadata": {
        "id": "view-in-github",
        "colab_type": "text"
      },
      "source": [
        "<a href=\"https://colab.research.google.com/github/zilavalencia/ChungaraVZila-IA-SIS420/blob/main/Laboratorios/Laboratorio01/Laboratorio_1_Regresion_Multiple_pynb.ipynb\" target=\"_parent\"><img src=\"https://colab.research.google.com/assets/colab-badge.svg\" alt=\"Open In Colab\"/></a>"
      ]
    },
    {
      "cell_type": "markdown",
      "source": [
        "# LABORATORIO 1\n",
        "# Ejercicio Regresión Lineal Multiple\n",
        "Integrantes:\n",
        "\n",
        "*   Portillo Mercado Daniela\n",
        "*   Chungara Valencia Zila\n",
        "*   Escobar Ruiz Marco Antonio\n",
        "*   Gómez García Flores Dafne July\n",
        "*   Gutiérrez Murillo Gerson (Jefe de Grupo)\n",
        "\n",
        "Asignatura: Inteligencia Artificial I (SIS420)\n",
        "\n",
        "Colab: https://colab.research.google.com/drive/1w8HJKQs0HJPMLppb9FgSMprrSFEx2XCX#scrollTo=OxH1TtBiZ7Qg\n",
        "\n",
        "Dataset: https://www.kaggle.com/datasets/oliverquiros/enfermedades-del-corazon/data\n",
        "\n",
        "Github: https://github.com/zilavalencia/ZChungaraValencia-IA-SIS420\n"
      ],
      "metadata": {
        "id": "OxH1TtBiZ7Qg"
      }
    },
    {
      "cell_type": "markdown",
      "source": [
        "# ***Variables del dataset sobre enfermedades cardíacas***\n",
        "\n",
        "**X1: age(edad)** = Edad del paciente en años.\n",
        "\n",
        "**X2: sex(sexo)** = Género biológico del paciente.\n",
        "0. hombre\n",
        "1. mujer\n",
        "\n",
        "**X3: chest pain type(tipo de dolor en el pecho)** = Clasificación del dolor torácico. Útil para diagnosticar posibles problemas cardíacos.\n",
        "1. Angina típica (dolor por el esfuerzo físico).\n",
        "\n",
        "2. Angina atípica (dolor no relacionado con esfuerzo).\n",
        "\n",
        "3. Dolor no anginoso (probablemente no relacionado con el corazón).\n",
        "\n",
        "4. Asintomático (sin dolor en el pecho).\n",
        "\n",
        "**X4: resting bp s(presión arterial en reposo)** = Presión arterial sistólica (mmHg).Medida cuando el paciente está en reposo.\n",
        "\n",
        "**X5:cholesterol(colesterol)** = Nivel de colesterol sérico en mg/dL.\n",
        "Un colesterol alto puede aumentar el riesgo de enfermedades cardíacas.\n",
        "\n",
        "**X6: fasting blood sugar(glucosa en ayunas)** = Nivel de azúcar en sangre después de ayunar.Puede indicar diabetes o prediabetes, lo que afecta la salud del corazón.\n",
        "0. < 120 mg/dL (normal).\n",
        "1. ≥ 120 mg/dL (alto).\n",
        "**X7: resting ecg(ECG en reposo)** = Resultado del electrocardiograma en reposo.\n",
        "Un valor bajo puede indicar problemas en la función cardíaca.\n",
        "\n",
        "0. Normal.\n",
        "\n",
        "1. Anomalía en la onda ST-T.\n",
        "\n",
        "2. Hipertrofia ventricular izquierda (signo de posible enfermedad cardíaca).\n",
        "\n",
        "**X8: max heart rate(frecuencia cardíaca máxima alcanzada)** = Máximo de latidos por minuto durante una prueba de esfuerzo.\n",
        "\n",
        "\n",
        "**X9: exercise angina(angina inducida por ejercicio)** = Dolor en el pecho al hacer ejercicio.Puede indicar obstrucciones en las arterias.\n",
        "0. No\n",
        "1. Si\n",
        "\n",
        "**X10: oldpeak(depresión del ST inducida por ejercicio)** = Diferencia entre el ST en reposo y después del ejercicio.Un valor alto puede ser una señal de enfermedad cardíaca\n",
        "\n",
        "**X11: ST slope(pendiente del segmento ST)** = Comportamiento del segmento ST en el ECG durante el ejercicio.\n",
        "1. Ascendente (normal).\n",
        "\n",
        "2. Plana (puede indicar isquemia).\n",
        "\n",
        "3. Descendente (alto riesgo de enfermedad cardíaca).\n",
        "\n",
        "**Y: target(objetivo / diagnóstico de enfermedad cardíaca)** → Indica si el paciente tiene o no enfermedad cardíaca.\n",
        "0. No tiene enfermedad cardíaca.\n",
        "\n",
        "1. Tiene enfermedad cardíaca."
      ],
      "metadata": {
        "id": "7VuHfbJrDxZ5"
      }
    },
    {
      "cell_type": "code",
      "execution_count": null,
      "metadata": {
        "id": "zembinhwZ21o"
      },
      "outputs": [],
      "source": [
        "# utilizado para manejos de directorios y rutas\n",
        "import os\n",
        "\n",
        "# Computacion vectorial y cientifica para python\n",
        "import numpy as np\n",
        "#libreria pandas para leer datasets csv\n",
        "import pandas as pd\n",
        "# Librerias para graficación (trazado de gráficos)\n",
        "from matplotlib import pyplot\n",
        "from mpl_toolkits.mplot3d import Axes3D  # Necesario para graficar superficies 3D\n",
        "\n",
        "# llama a matplotlib a embeber graficas dentro de los cuadernillos\n",
        "%matplotlib inline\n",
        "\n",
        "pd.set_option('display.max_rows', 100)"
      ]
    },
    {
      "cell_type": "markdown",
      "source": [
        "# Se otorga permisos de acceso a la carpeta de Drive para leer el dataset"
      ],
      "metadata": {
        "id": "GKLjYzrwyhZf"
      }
    },
    {
      "cell_type": "code",
      "source": [
        "from google.colab import drive\n",
        "drive.mount('/content/drive')"
      ],
      "metadata": {
        "colab": {
          "base_uri": "https://localhost:8080/"
        },
        "id": "jdQP6NreijnY",
        "outputId": "15dbd39d-8ee8-4f1c-955d-cab6f24e7c0d"
      },
      "execution_count": null,
      "outputs": [
        {
          "output_type": "stream",
          "name": "stdout",
          "text": [
            "Drive already mounted at /content/drive; to attempt to forcibly remount, call drive.mount(\"/content/drive\", force_remount=True).\n"
          ]
        }
      ]
    },
    {
      "cell_type": "markdown",
      "source": [
        "# Regresión lineal con multiples variables\n",
        "Se implementa la regresión lineal multiple para predecir la presencia de una enfermedad del corazon usando variables como:\n",
        "edad, sexo, tipo de dolor en el pecho, presión arterial, colesterol,zucar en sangre,ECG en reposo, frecuencia cardiaca,angina de ejercicio,old peak(pico viejo), pendiente ST.\n"
      ],
      "metadata": {
        "id": "ZcfjW6y2fyfD"
      }
    },
    {
      "cell_type": "markdown",
      "source": [
        "# 1. Cargando datos del dataset\n",
        "Cargamos los datos haciendo el uso de la libreria PANDA.\n",
        "En esta parte del codigo, se esta realizando varias operaciones relacionadas con la carga y manipulacion de datos.\n",
        "\n"
      ],
      "metadata": {
        "id": "VkszQ6XRxnsP"
      }
    },
    {
      "cell_type": "code",
      "source": [
        "import pandas as pd\n",
        "import numpy as np\n",
        "\n",
        "# Cargar el dataset\n",
        "#dataset sobre registro de estadísticas del corazón de Cleveland Hungría\n",
        "#https://www.kaggle.com/datasets/oliverquiros/enfermedades-del-corazon/data\n",
        "data = pd.read_csv('/content/drive/MyDrive/heart_statlog_cleveland_hungary_final.csv', delimiter=',')\n",
        "\n",
        "# Extraer solo las primeras 11 columnas para X\n",
        "X = data.iloc[:, :11].values  # leer las 11 primeras columnas\n",
        "y = data.iloc[:, 11].values   # leer Última columna\n",
        "\n",
        "# Número de muestras\n",
        "m = y.size\n",
        "print(\"Número de muestras:\", m)\n",
        "\n",
        "# Imprimir encabezados alineados\n",
        "print('{:>8s}{:>8s}{:>8s}{:>8s}{:>8s}{:>8s}{:>8s}{:>8s}{:>8s}{:>8s}{:>8s}{:>8s}'.format(\n",
        "    'X1', 'X2', 'X3', 'X4', 'X5', 'X6', 'X7', 'X8', 'X9', 'X10', 'X11','Y'))\n",
        "#x1= edad,x2= sexo,x3= tipo de dolor en el pecho,x4= presión arterial en reposo, x5= colesterol, x6= azúcar en sangre en ayunas,x7= ECG en reposo,\n",
        "#x8= frecuencia cardíaca máxima, x9= angina de ejercicio, x10= pico antiguo, x11= pendiente St , y = objetivo\n",
        "print('-' * 100)\n",
        "\n",
        "# Mostrar los primeros 10 datos formateados\n",
        "for i in range(10):\n",
        "    print('{:8.0f}{:8.0f}{:8.0f}{:8.0f}{:8.0f}{:8.0f}{:8.0f}{:8.0f}{:8.0f}{:8.0f}{:8.0f}{:8.0f}'.format(\n",
        "        X[i, 0], X[i, 1], X[i, 2], X[i, 3], X[i, 4], X[i, 5], X[i, 6], X[i, 7], X[i, 8], X[i, 9],X[i, 9], y[i]))"
      ],
      "metadata": {
        "colab": {
          "base_uri": "https://localhost:8080/"
        },
        "id": "95tFep0dl9LI",
        "outputId": "4f694303-be41-4853-a3ff-17aca470de0e"
      },
      "execution_count": null,
      "outputs": [
        {
          "output_type": "stream",
          "name": "stdout",
          "text": [
            "Número de muestras: 1190\n",
            "      X1      X2      X3      X4      X5      X6      X7      X8      X9     X10     X11       Y\n",
            "----------------------------------------------------------------------------------------------------\n",
            "      40       1       2     140     289       0       0     172       0       0       0       0\n",
            "      49       0       3     160     180       0       0     156       0       1       1       1\n",
            "      37       1       2     130     283       0       1      98       0       0       0       0\n",
            "      48       0       4     138     214       0       0     108       1       2       2       1\n",
            "      54       1       3     150     195       0       0     122       0       0       0       0\n",
            "      39       1       3     120     339       0       0     170       0       0       0       0\n",
            "      45       0       2     130     237       0       0     170       0       0       0       0\n",
            "      54       1       2     110     208       0       0     142       0       0       0       0\n",
            "      37       1       4     140     207       0       0     130       1       2       2       1\n",
            "      48       0       2     120     284       0       0     120       0       0       0       0\n"
          ]
        }
      ]
    },
    {
      "cell_type": "markdown",
      "source": [
        "# 1.1 Normalizacion de caracteristicas\n",
        "Este proceso se usa para asegurar que todas las características tengan una escala similar.\n",
        "Al visualizar los datos se puede observar que las caracteristicas tienen diferentes magnitudes, por lo cual se debe transformar cada valor en una escala de valores similares, esto con el fin de que el descenso por el gradiente pueda converger mas rapidamente."
      ],
      "metadata": {
        "id": "lSDwQQ9L88ji"
      }
    },
    {
      "cell_type": "code",
      "source": [
        "def  featureNormalize(X):\n",
        "\n",
        "    X_norm = X.copy() #Copia datos para no modificar el original\n",
        "    mu = np.zeros(X.shape[1]) #inicializa vectores para la media y desviacion estandar\n",
        "    sigma = np.zeros(X.shape[1])\n",
        "\n",
        "    mu = np.mean(X, axis = 0)#calcula media y desviacion estandar\n",
        "    sigma = np.std(X, axis = 0)\n",
        "    X_norm = (X - mu) / sigma #normaliza cada caracteristica restando la media y dividiendo por la desvicion estandar\n",
        "\n",
        "    return X_norm, mu, sigma"
      ],
      "metadata": {
        "id": "b4bdF66M26Pq"
      },
      "execution_count": null,
      "outputs": []
    },
    {
      "cell_type": "markdown",
      "source": [
        "Se imprime los valores normalizados de las características. Asimismo los valores medios y la desviación estandar utilizados para la normalización de datos."
      ],
      "metadata": {
        "id": "zxv4VDe9piBe"
      }
    },
    {
      "cell_type": "code",
      "source": [
        "# llama featureNormalize con los datos cargados\n",
        "X_norm, mu, sigma = featureNormalize(X) #llama a la funcion la cual devuelve la matriz de datos normalizada\n",
        "\n",
        "print(np.round(X, 2))\n",
        "print('Media calculada:', mu) #imprime la media\n",
        "print('Desviación estandar calculada:', sigma) #imprime desviacion estandar\n",
        "print(X_norm) # normalizados que ahora tienen media 0 y desviacion estandar 1 asegurando que todas las caracte. esten en las misma escala"
      ],
      "metadata": {
        "colab": {
          "base_uri": "https://localhost:8080/"
        },
        "id": "PVGXwBfSCzyu",
        "outputId": "85d2f65b-ca60-4417-ebdd-efd391330114"
      },
      "execution_count": null,
      "outputs": [
        {
          "output_type": "stream",
          "name": "stdout",
          "text": [
            "[[40.   1.   2.  ...  0.   0.   1. ]\n",
            " [49.   0.   3.  ...  0.   1.   2. ]\n",
            " [37.   1.   2.  ...  0.   0.   1. ]\n",
            " ...\n",
            " [57.   1.   4.  ...  1.   1.2  2. ]\n",
            " [57.   0.   2.  ...  0.   0.   2. ]\n",
            " [38.   1.   3.  ...  0.   0.   1. ]]\n",
            "Media calculada: [ 53.72016807   0.76386555   3.23277311 132.15378151 210.36386555\n",
            "   0.21344538   0.69831933 139.73277311   0.38739496   0.92277311\n",
            "   1.62436975]\n",
            "Desviación estandar calculada: [  9.35426995   0.42470575   0.93508722  18.3611038  101.37786644\n",
            "   0.40973949   0.86999306  25.5069116    0.48715511   1.08588068\n",
            "   0.61020266]\n",
            "[[-1.46672783  0.55599543 -1.31835093 ... -0.79521891 -0.84979236\n",
            "  -1.02321701]\n",
            " [-0.50460037 -1.79857595 -0.24893198 ... -0.79521891  0.07111913\n",
            "   0.61558278]\n",
            " [-1.78743698  0.55599543 -1.31835093 ... -0.79521891 -0.84979236\n",
            "  -1.02321701]\n",
            " ...\n",
            " [ 0.35062404  0.55599543  0.82048698 ...  1.25751537  0.25530143\n",
            "   0.61558278]\n",
            " [ 0.35062404 -1.79857595 -1.31835093 ... -0.79521891 -0.84979236\n",
            "   0.61558278]\n",
            " [-1.68053393  0.55599543 -0.24893198 ... -0.79521891 -0.84979236\n",
            "  -1.02321701]]\n"
          ]
        }
      ]
    },
    {
      "cell_type": "markdown",
      "source": [
        "# Despues de normalizar, se agrega la característica X0 = 1 para todos los ejemplos.\n"
      ],
      "metadata": {
        "id": "fpykDo0fGTf6"
      }
    },
    {
      "cell_type": "code",
      "source": [
        "# Añade el termino de interseccion a X\n",
        "# (Columna de unos para X0)\n",
        "X = np.concatenate([np.ones((m, 1)), X_norm], axis=1)\n",
        "print(X)"
      ],
      "metadata": {
        "colab": {
          "base_uri": "https://localhost:8080/"
        },
        "id": "W4pUQQIsHjL0",
        "outputId": "a1841a5f-1d55-49a4-f873-ecd3749f80f6"
      },
      "execution_count": null,
      "outputs": [
        {
          "output_type": "stream",
          "name": "stdout",
          "text": [
            "[[ 1.         -1.46672783  0.55599543 ... -0.79521891 -0.84979236\n",
            "  -1.02321701]\n",
            " [ 1.         -0.50460037 -1.79857595 ... -0.79521891  0.07111913\n",
            "   0.61558278]\n",
            " [ 1.         -1.78743698  0.55599543 ... -0.79521891 -0.84979236\n",
            "  -1.02321701]\n",
            " ...\n",
            " [ 1.          0.35062404  0.55599543 ...  1.25751537  0.25530143\n",
            "   0.61558278]\n",
            " [ 1.          0.35062404 -1.79857595 ... -0.79521891 -0.84979236\n",
            "   0.61558278]\n",
            " [ 1.         -1.68053393  0.55599543 ... -0.79521891 -0.84979236\n",
            "  -1.02321701]]\n"
          ]
        }
      ]
    },
    {
      "cell_type": "markdown",
      "source": [
        "# 1.2 Descenso por el gradiente\n",
        "El descenso por el gradiente es un algoritmo de optimización utilizado en el aprendizaje automático para minimizar una función de costo. Funciona ajustando iterativamente los parámetros en la dirección que más reduce el valor de la función de costo, calculando la derivada parcial de la función de costo con respecto a cada parámetro y actualizando los parámetros en la dirección opuesta a la derivada. Este proceso se repite hasta que se alcanza un mínimo de la función de costo o se alcanza un número máximo de iteraciones. El tamaño del paso de cada actualización, conocido como tasa de aprendizaje, es un hiperparámetro importante que afecta la convergencia y estabilidad del algoritmo. El descenso por el gradiente es fundamental en el aprendizaje automático y se utiliza en una variedad de algoritmos para entrenar modelos.\n",
        "\n"
      ],
      "metadata": {
        "id": "gDR7ReJ_JCnf"
      }
    },
    {
      "cell_type": "markdown",
      "source": [
        "# 1.2.1 Cálculo de la función de costo J"
      ],
      "metadata": {
        "id": "8I_CO_RHovWc"
      }
    },
    {
      "cell_type": "markdown",
      "source": [
        "La funcion en costo es una medida de que tan bien esta funcionando el modelo. El objetivo es minimizar esta funcion de costo para encontrar los mejores valores para los parametros theta."
      ],
      "metadata": {
        "id": "GdTgBDugfeVP"
      }
    },
    {
      "cell_type": "code",
      "source": [
        "def computeCostMulti(X, y, theta):\n",
        "    # Inicializa algunos valores utiles\n",
        "    m = y.shape[0] # numero de ejemplos de entrenamiento\n",
        "\n",
        "    J = 0\n",
        "\n",
        "    # hipotesis o y predicha\n",
        "    h = np.dot(X, theta)\n",
        "\n",
        "    J = (1/(2 * m)) * np.sum(np.square(np.dot(X, theta) - y))\n",
        "\n",
        "    return J"
      ],
      "metadata": {
        "id": "4QEAhVzLJIjQ"
      },
      "execution_count": null,
      "outputs": []
    },
    {
      "cell_type": "markdown",
      "source": [
        "La funcion grandientDescentMulti es una implementación estandar de descenso por el gradiente para regresion lineal multivariable. El descenso por el gradiente se utiliza para encontrar los valores optimos de los parametros theta que minimzan la funcion de costo."
      ],
      "metadata": {
        "id": "JJgO-ETagBpR"
      }
    },
    {
      "cell_type": "code",
      "source": [
        "def gradientDescentMulti(X, y, theta, alpha, num_iters):\n",
        "\n",
        "    # Inicializa algunos valores\n",
        "    m = y.shape[0] # numero de ejemplos de entrenamiento\n",
        "\n",
        "    # realiza una copia de theta, el cual será acutalizada por el descenso por el gradiente\n",
        "\n",
        "    theta = theta.copy()\n",
        "\n",
        "    J_history = []\n",
        "\n",
        "    for i in range(num_iters):\n",
        "        theta = theta - (alpha / m) * (np.dot(X, theta) - y).dot(X)\n",
        "        J_history.append(computeCostMulti(X, y, theta))\n",
        "\n",
        "    return theta, J_history"
      ],
      "metadata": {
        "id": "ADL1IgtxJO2-"
      },
      "execution_count": null,
      "outputs": []
    },
    {
      "cell_type": "markdown",
      "source": [
        "# 1.3 Seleccionando coheficientes de aprendizaje"
      ],
      "metadata": {
        "id": "eu0b2LTgJSil"
      }
    },
    {
      "cell_type": "code",
      "source": [
        "# Elegir algun valor para alpha (probar varias alternativas)\n",
        "alpha = 0.002 # alpha = 0.003\n",
        "num_iters = 1500\n",
        "\n",
        "# inicializa theta y ejecuta el descenso por el gradiente\n",
        "theta = np.zeros(X.shape[1])\n",
        "theta, J_history = gradientDescentMulti(X, y, theta, alpha, num_iters)\n",
        "\n",
        "# Grafica la convergencia del costo\n",
        "pyplot.plot(np.arange(len(J_history)), J_history, lw=2)\n",
        "pyplot.xlabel('Numero de iteraciones')\n",
        "pyplot.ylabel('Costo J')\n",
        "# predicion con una persona con datos de edad=45,sexo=1,tipo de dolor en el pecho=1,presión arterial en reposo=140,colesterol=280, azúcar en sangre en ayunas =0,ECG en reposo= 0,\n",
        "#frecuencia cardíaca máxima = 112, angina de ejercicio = 1, oldpeak = 0 ,  pendiente St =0\n",
        "X_array = np.array([1, 45, 1, 2, 140, 280, 0, 0, 112, 1, 0, 0] )  # 12 valores\n",
        "#Ejemplo 1\n",
        "# Normalizar las características (sin afectar la columna de intersección)\n",
        "X_array[1:12] = (X_array[1:12] - mu) / sigma\n",
        "proba = np.dot(X_array, theta)\n",
        "# Muestra los resultados del descenso por el gradiente\n",
        "print('theta calculado por el descenso por el gradiente: {:s}'.format(str(theta)))\n",
        "print('La probabilidad de que esta persona tenga la enfermedad del corazón (usando el descenso por el gradiente) es de: {:.2f}'.format(proba))"
      ],
      "metadata": {
        "colab": {
          "base_uri": "https://localhost:8080/",
          "height": 504
        },
        "id": "nQMjlPBjJWdp",
        "outputId": "bdfb56a8-437f-4a74-bf45-160907db6008"
      },
      "execution_count": null,
      "outputs": [
        {
          "output_type": "stream",
          "name": "stdout",
          "text": [
            "theta calculado por el descenso por el gradiente: [ 0.50233434  0.02203683  0.07902797  0.10735295  0.0139645  -0.03982261\n",
            "  0.04698833  0.01492123 -0.0538      0.08681191  0.06293846  0.105018  ]\n",
            "La probabilidad de que esta persona tenga la enfermedad del corazón (usando el descenso por el gradiente) es de: 0.33\n"
          ]
        },
        {
          "output_type": "display_data",
          "data": {
            "text/plain": [
              "<Figure size 640x480 with 1 Axes>"
            ],
            "image/png": "[encoded data removed]"
          },
          "metadata": {}
        }
      ]
    },
    {
      "cell_type": "code",
      "source": [
        "# Ejemplo 2:\n",
        "# Predicion con una persona con datos de edad=20,sexo=1,tipo de dolor en el pecho=2,presión arterial en reposo=2,colesterol=250, azúcar en sangre en ayunas =0,ECG en reposo= 0,\n",
        "#frecuencia cardíaca máxima = 99, angina de ejercicio = 1, oldpeak = 0 ,  pendiente St =0\n",
        "X_array = np.array([1, 20, 1, 2, 160, 250, 0, 0, 99, 1, 0, 0] )  # 12 valores\n",
        "# Normalizar las características (sin afectar la columna de intersección)\n",
        "X_array[1:12] = (X_array[1:12] - mu) / sigma\n",
        "# Verifica la forma de X_array\n",
        "print(\"X_array normalizado:\", X_array)\n",
        "# Realizar la predicción\n",
        "proba = np.dot(X_array, theta)  # Predicción usando el modelo entrenado\n",
        "# Imprimir el resultado\n",
        "print('La probabilidad de que esta persona tenga la enfermedad del corazón (usando el descenso por el gradiente) es de: {:.2f}'.format(proba))"
      ],
      "metadata": {
        "colab": {
          "base_uri": "https://localhost:8080/"
        },
        "id": "UM6krftRaxaY",
        "outputId": "3253f1b0-411e-4db7-a68d-4bf82a9dce3c"
      },
      "execution_count": null,
      "outputs": [
        {
          "output_type": "stream",
          "name": "stdout",
          "text": [
            "X_array normalizado: [ 1 -3  0 -1  1  0  0  0 -1  1  0 -2]\n",
            "La probabilidad de que esta persona tenga la enfermedad del corazón (usando el descenso por el gradiente) es de: 0.27\n"
          ]
        }
      ]
    },
    {
      "cell_type": "code",
      "source": [
        "# Ejemplo 3:\n",
        "# Predicion con una persona con datos de edad=20,sexo=0,tipo de dolor en el pecho=2,presión arterial en reposo=175,colesterol=250, azúcar en sangre en ayunas =0,ECG en reposo= 0,\n",
        "#frecuencia cardíaca máxima = 150, angina de ejercicio = 1, oldpeak = 0 ,  pendiente St =0\n",
        "X_array = np.array([1, 62, 0, 2, 175, 290, 0, 0, 150, 1, 0, 0] )  # 12 valores\n",
        "# Normalizar las características (sin afectar la columna de intersección)\n",
        "X_array[1:12] = (X_array[1:12] - mu) / sigma\n",
        "# Verifica la forma de X_array\n",
        "print(\"X_array normalizado:\", X_array)\n",
        "# Realizar la predicción\n",
        "proba = np.dot(X_array, theta)  # Predicción usando el modelo entrenado\n",
        "# Imprimir el resultado\n",
        "print('La probabilidad de que esta persona tenga la enfermedad del corazón (usando el descenso por el gradiente) es de: {:.2f}'.format(proba))"
      ],
      "metadata": {
        "colab": {
          "base_uri": "https://localhost:8080/"
        },
        "id": "n-_Q2ST-a3Vz",
        "outputId": "9e9990ba-1099-4fe8-9bb7-4f84ccac0b76"
      },
      "execution_count": null,
      "outputs": [
        {
          "output_type": "stream",
          "name": "stdout",
          "text": [
            "X_array normalizado: [ 1  0 -1 -1  2  0  0  0  0  1  0 -2]\n",
            "La probabilidad de que esta persona tenga la enfermedad del corazón (usando el descenso por el gradiente) es de: 0.22\n"
          ]
        }
      ]
    },
    {
      "cell_type": "markdown",
      "source": [
        "# Ecuacion de la Normal"
      ],
      "metadata": {
        "id": "iYMDgFMDJpDa"
      }
    },
    {
      "cell_type": "markdown",
      "source": [
        "La Ecuación de la Normal es una fórmula matemática utilizada en regresión lineal para calcular los parámetros del modelo que minimizan el error cuadrático entre las predicciones y los valores reales. Se utiliza principalmente cuando se quiere obtener una solución exacta y rápida para conjuntos de datos no demasiado grandes."
      ],
      "metadata": {
        "id": "mVl1cLaNledp"
      }
    },
    {
      "cell_type": "code",
      "source": [
        "# Cargar el dataset (sin la columna de sexo, que es la primera columna)\n",
        "data = pd.read_csv('/content/drive/MyDrive/heart_statlog_cleveland_hungary_final.csv', delimiter=',')\n",
        "\n",
        "# Excluir la primera columna (sexo) y tomar las columnas restantes como características (X)\n",
        "X = data.iloc[:, :11].values  # Excluimos la primera columna (sexo) y tomamos las siguientes 9\n",
        "y = data.iloc[:, 11].values   # Última columna, que es el valor objetivo\n",
        "\n",
        "# Número de muestras\n",
        "m = y.size\n",
        "print(\"Número de muestras:\", m)\n",
        "\n",
        "X = np.concatenate([np.ones((m, 1)), X], axis=1)\n"
      ],
      "metadata": {
        "colab": {
          "base_uri": "https://localhost:8080/"
        },
        "id": "vlv5gYkUbF5q",
        "outputId": "2a2f908f-3aa9-424f-a635-6c228cac9e90"
      },
      "execution_count": null,
      "outputs": [
        {
          "output_type": "stream",
          "name": "stdout",
          "text": [
            "Número de muestras: 1190\n"
          ]
        }
      ]
    },
    {
      "cell_type": "code",
      "source": [
        "def normalEqn(X, y):\n",
        "\n",
        "    theta = np.zeros(X.shape[1])\n",
        "\n",
        "    theta = np.dot(np.dot(np.linalg.inv(np.dot(X.T,X)),X.T),y)\n",
        "\n",
        "    return theta"
      ],
      "metadata": {
        "id": "SMJGSrNWbKhz"
      },
      "execution_count": null,
      "outputs": []
    },
    {
      "cell_type": "code",
      "source": [
        "# Calcula los parámetros usando la ecuación de la normal\n",
        "theta = normalEqn(X, y)\n",
        "\n",
        "# Muestra los resultados obtenidos de la ecuación de la normal\n",
        "print('Theta calculado a partir de la ecuación de la normal:', theta)\n",
        "\n",
        "# Predicion con una persona con datos de edad=55,sexo=0,tipo de dolor en el pecho=2,presión arterial en reposo=175,colesterol=290, azúcar en sangre en ayunas =1,ECG en reposo= 0,\n",
        "#frecuencia cardíaca máxima = 150, angina de ejercicio = 1, oldpeak = 0 ,  pendiente St =0\n",
        "X_array = [1, 55, 0, 2, 175, 290, 1, 0, 150, 1, 0, 0]  # 1 para el término de intersección y 11 características más\n",
        "# Normaliza las características (usando mu y sigma calculados previamente)\n",
        "#X_array[1:12] = (X_array[1:12] - mu) / sigma\n",
        "\n",
        "# Realiza la predicción\n",
        "proba = np.dot(X_array, theta)\n",
        "\n",
        "# Imprimir el resultado de la predicción\n",
        "print('La probabilidad de que esta persona tenga la enfermedad del corazón (usando la ecuación de la normal) es de: {:.2f}'.format(proba))"
      ],
      "metadata": {
        "colab": {
          "base_uri": "https://localhost:8080/"
        },
        "id": "a35wkMJpbO1O",
        "outputId": "16aa02d6-7d2e-41f6-c9cc-f2b8fb91c9da"
      },
      "execution_count": null,
      "outputs": [
        {
          "output_type": "stream",
          "name": "stdout",
          "text": [
            "Theta calculado a partir de la ecuación de la normal: [-0.34422534  0.00225516  0.19165873  0.12000105  0.00085665 -0.00038595\n",
            "  0.1152185   0.01716923 -0.00189561  0.17465109  0.05334132  0.18266066]\n",
            "La probabilidad de que esta persona tenga la enfermedad del corazón (usando la ecuación de la normal) es de: 0.06\n"
          ]
        }
      ]
    }
  ]
}